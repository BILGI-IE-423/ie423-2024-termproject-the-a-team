{
 "cells": [
  {
   "cell_type": "code",
   "execution_count": null,
   "id": "1d0b5b4c-d55c-43bf-99e5-dd20cfe7e741",
   "metadata": {},
   "outputs": [],
   "source": [
    "## World Health Statistics "
   ]
  }
 ],
 "metadata": {
  "kernelspec": {
   "display_name": "Python 3 (ipykernel)",
   "language": "python",
   "name": "python3"
  },
  "language_info": {
   "codemirror_mode": {
    "name": "ipython",
    "version": 3
   },
   "file_extension": ".py",
   "mimetype": "text/x-python",
   "name": "python",
   "nbconvert_exporter": "python",
   "pygments_lexer": "ipython3",
   "version": "3.12.1"
  }
 },
 "nbformat": 4,
 "nbformat_minor": 5
}
