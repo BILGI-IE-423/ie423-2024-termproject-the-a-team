{
 "cells": [
  {
   "cell_type": "code",
   "execution_count": 1,
   "id": "5da4d7c2-b044-4707-9880-0781b6fd38d2",
   "metadata": {},
   "outputs": [
    {
     "name": "stdout",
     "output_type": "stream",
     "text": [
      "No missing values found.\n"
     ]
    }
   ],
   "source": [
    "import pandas as pd\n",
    "\n",
    "# Load the dataset\n",
    "data = pd.read_csv('ML DIVIDED QUESTIONS/lifeExpectancyAtBirth.csv')\n",
    "\n",
    "# Check for missing values\n",
    "missing_values = data.isnull().sum()\n",
    "\n",
    "# Print missing values\n",
    "if missing_values.any():\n",
    "    print(\"Missing values exist. Here are the columns with missing values:\")\n",
    "    print(missing_values[missing_values > 0])\n",
    "    \n",
    "    # Remove rows with missing values\n",
    "    data_cleaned = data.dropna()\n",
    "    \n",
    "    # Check if any missing values remain\n",
    "    if data_cleaned.isnull().sum().any():\n",
    "        print(\"Some missing values could not be removed.\")\n",
    "    else:\n",
    "        print(\"All missing values have been removed.\")\n",
    "else:\n",
    "    print(\"No missing values found.\")"
   ]
  },
  {
   "cell_type": "code",
   "execution_count": 8,
   "id": "263b8563-2adb-4da7-88f9-a9bb087e8c04",
   "metadata": {},
   "outputs": [
    {
     "name": "stdout",
     "output_type": "stream",
     "text": [
      "         Location  Location_encoded Location_encoded_baseN  \\\n",
      "0     Afghanistan                 0                     []   \n",
      "1     Afghanistan                 0                     []   \n",
      "2     Afghanistan                 0                     []   \n",
      "3     Afghanistan                 0                     []   \n",
      "4     Afghanistan                 0                     []   \n",
      "...           ...               ...                    ...   \n",
      "2192     Zimbabwe               183                  [183]   \n",
      "2193     Zimbabwe               183                  [183]   \n",
      "2194     Zimbabwe               183                  [183]   \n",
      "2195     Zimbabwe               183                  [183]   \n",
      "2196     Zimbabwe               183                  [183]   \n",
      "\n",
      "                             Indicator  Indicator_encoded  \\\n",
      "0     Life expectancy at birth (years)                  0   \n",
      "1     Life expectancy at birth (years)                  0   \n",
      "2     Life expectancy at birth (years)                  0   \n",
      "3     Life expectancy at birth (years)                  0   \n",
      "4     Life expectancy at birth (years)                  0   \n",
      "...                                ...                ...   \n",
      "2192  Life expectancy at birth (years)                  0   \n",
      "2193  Life expectancy at birth (years)                  0   \n",
      "2194  Life expectancy at birth (years)                  0   \n",
      "2195  Life expectancy at birth (years)                  0   \n",
      "2196  Life expectancy at birth (years)                  0   \n",
      "\n",
      "     Indicator_encoded_baseN        Dim1  Dim1_encoded Dim1_encoded_baseN  \n",
      "0                         []  Both sexes             0                 []  \n",
      "1                         []        Male             1                [1]  \n",
      "2                         []      Female             2                [2]  \n",
      "3                         []  Both sexes             0                 []  \n",
      "4                         []        Male             1                [1]  \n",
      "...                      ...         ...           ...                ...  \n",
      "2192                      []        Male             1                [1]  \n",
      "2193                      []      Female             2                [2]  \n",
      "2194                      []  Both sexes             0                 []  \n",
      "2195                      []        Male             1                [1]  \n",
      "2196                      []      Female             2                [2]  \n",
      "\n",
      "[2197 rows x 9 columns]\n"
     ]
    }
   ],
   "source": [
    "import pandas as pd\n",
    "\n",
    "# Sample DataFrame\n",
    "data = pd.read_csv('ML DIVIDED QUESTIONS/lifeExpectancyAtBirth.csv')\n",
    "\n",
    "# Convert categorical columns to unique integer values starting from 0\n",
    "for column in data.select_dtypes(include='object').columns:\n",
    "    data[f'{column}_encoded'] = pd.factorize(data[column])[0]\n",
    "\n",
    "# Function to perform BaseN encoding\n",
    "def base_n_encode(value, base):\n",
    "    \"\"\"\n",
    "    Convert a value to its base-N representation.\n",
    "\n",
    "    Args:\n",
    "    - value: The value to encode.\n",
    "    - base: The base to use for encoding.\n",
    "\n",
    "    Returns:\n",
    "    - A list representing the base-N encoding of the value.\n",
    "    \"\"\"\n",
    "    result = []\n",
    "    while value > 0:\n",
    "        result.insert(0, value % base)\n",
    "        value = value // base\n",
    "    return result\n",
    "\n",
    "# Apply BaseN encoding to the encoded columns\n",
    "for column in data.filter(like='_encoded').columns:\n",
    "    base = len(data[column].unique())\n",
    "    data[f'{column}_baseN'] = data[column].apply(lambda x: base_n_encode(x, base))\n",
    "\n",
    "# Display the encoded columns\n",
    "encoded_columns = data.filter(like='_encoded').columns\n",
    "print(data[['Location', 'Location_encoded', 'Location_encoded_baseN', \n",
    "            'Indicator', 'Indicator_encoded', 'Indicator_encoded_baseN', \n",
    "            'Dim1', 'Dim1_encoded', 'Dim1_encoded_baseN']])"
   ]
  },
  {
   "cell_type": "code",
   "execution_count": 13,
   "id": "7e4e87c7-cb5a-412b-9155-6ace71100101",
   "metadata": {},
   "outputs": [
    {
     "name": "stdout",
     "output_type": "stream",
     "text": [
      "   Location_encoded  Period  Indicator_encoded  Dim1_encoded  First Tooltip\n",
      "0                 0    2019                  0             0          63.21\n",
      "1                 0    2019                  0             1          63.29\n",
      "2                 0    2019                  0             2          63.16\n",
      "3                 0    2015                  0             0          61.65\n",
      "4                 0    2015                  0             1          61.04\n"
     ]
    }
   ],
   "source": [
    "print(data[['Location_encoded', 'Period', 'Indicator_encoded', 'Dim1_encoded', 'First Tooltip']].head())"
   ]
  },
  {
   "cell_type": "markdown",
   "id": "07e50790-ef4a-4fd4-8ad0-6d57a5644bdd",
   "metadata": {},
   "source": []
  }
 ],
 "metadata": {
  "kernelspec": {
   "display_name": "Python 3 (ipykernel)",
   "language": "python",
   "name": "python3"
  },
  "language_info": {
   "codemirror_mode": {
    "name": "ipython",
    "version": 3
   },
   "file_extension": ".py",
   "mimetype": "text/x-python",
   "name": "python",
   "nbconvert_exporter": "python",
   "pygments_lexer": "ipython3",
   "version": "3.11.7"
  }
 },
 "nbformat": 4,
 "nbformat_minor": 5
}
