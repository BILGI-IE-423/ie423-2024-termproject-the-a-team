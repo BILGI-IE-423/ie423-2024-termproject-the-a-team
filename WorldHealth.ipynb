{
 "cells": [
  {
   "cell_type": "markdown",
   "id": "95492828",
   "metadata": {},
   "source": [
    "# Communicable Diseases"
   ]
  },
  {
   "cell_type": "code",
   "execution_count": 191,
   "id": "3ce89b0c",
   "metadata": {},
   "outputs": [],
   "source": [
    "import pandas as pd\n",
    "import numpy as np\n",
    "import matplotlib.pyplot as plt\n",
    "import seaborn as sns\n",
    "from sklearn.preprocessing import StandardScaler\n",
    "from sklearn.model_selection import train_test_split"
   ]
  },
  {
   "cell_type": "code",
   "execution_count": 192,
   "id": "02f358f3",
   "metadata": {},
   "outputs": [],
   "source": [
    "malaria = pd.read_csv(\"masa/incedenceOfMalaria.csv\")\n",
    "tuberculosis = pd.read_csv(\"masa/incedenceOfTuberculosis.csv\")\n",
    "HBsAg = pd.read_csv(\"masa/hepatitusBsurfaceAntigen.csv\")\n",
    "NTDs = pd.read_csv(\"masa/interventionAgianstNTDs.csv\")\n",
    "HIV = pd.read_csv(\"masa/newHivInfections.csv\")"
   ]
  },
  {
   "cell_type": "code",
   "execution_count": 193,
   "id": "cabab878",
   "metadata": {},
   "outputs": [
    {
     "data": {
      "text/html": [
       "<div>\n",
       "<style scoped>\n",
       "    .dataframe tbody tr th:only-of-type {\n",
       "        vertical-align: middle;\n",
       "    }\n",
       "\n",
       "    .dataframe tbody tr th {\n",
       "        vertical-align: top;\n",
       "    }\n",
       "\n",
       "    .dataframe thead th {\n",
       "        text-align: right;\n",
       "    }\n",
       "</style>\n",
       "<table border=\"1\" class=\"dataframe\">\n",
       "  <thead>\n",
       "    <tr style=\"text-align: right;\">\n",
       "      <th></th>\n",
       "      <th>Location</th>\n",
       "      <th>Indicator</th>\n",
       "      <th>Period</th>\n",
       "      <th>First Tooltip</th>\n",
       "    </tr>\n",
       "  </thead>\n",
       "  <tbody>\n",
       "    <tr>\n",
       "      <th>0</th>\n",
       "      <td>Afghanistan</td>\n",
       "      <td>Malaria incidence (per 1 000 population at risk)</td>\n",
       "      <td>2018</td>\n",
       "      <td>29.01</td>\n",
       "    </tr>\n",
       "    <tr>\n",
       "      <th>1</th>\n",
       "      <td>Afghanistan</td>\n",
       "      <td>Malaria incidence (per 1 000 population at risk)</td>\n",
       "      <td>2017</td>\n",
       "      <td>27.07</td>\n",
       "    </tr>\n",
       "    <tr>\n",
       "      <th>2</th>\n",
       "      <td>Afghanistan</td>\n",
       "      <td>Malaria incidence (per 1 000 population at risk)</td>\n",
       "      <td>2016</td>\n",
       "      <td>26.11</td>\n",
       "    </tr>\n",
       "    <tr>\n",
       "      <th>3</th>\n",
       "      <td>Afghanistan</td>\n",
       "      <td>Malaria incidence (per 1 000 population at risk)</td>\n",
       "      <td>2015</td>\n",
       "      <td>14.91</td>\n",
       "    </tr>\n",
       "    <tr>\n",
       "      <th>4</th>\n",
       "      <td>Afghanistan</td>\n",
       "      <td>Malaria incidence (per 1 000 population at risk)</td>\n",
       "      <td>2014</td>\n",
       "      <td>12.67</td>\n",
       "    </tr>\n",
       "  </tbody>\n",
       "</table>\n",
       "</div>"
      ],
      "text/plain": [
       "      Location                                         Indicator  Period  \\\n",
       "0  Afghanistan  Malaria incidence (per 1 000 population at risk)    2018   \n",
       "1  Afghanistan  Malaria incidence (per 1 000 population at risk)    2017   \n",
       "2  Afghanistan  Malaria incidence (per 1 000 population at risk)    2016   \n",
       "3  Afghanistan  Malaria incidence (per 1 000 population at risk)    2015   \n",
       "4  Afghanistan  Malaria incidence (per 1 000 population at risk)    2014   \n",
       "\n",
       "   First Tooltip  \n",
       "0          29.01  \n",
       "1          27.07  \n",
       "2          26.11  \n",
       "3          14.91  \n",
       "4          12.67  "
      ]
     },
     "execution_count": 193,
     "metadata": {},
     "output_type": "execute_result"
    }
   ],
   "source": [
    "malaria.head()"
   ]
  },
  {
   "cell_type": "code",
   "execution_count": 194,
   "id": "879eae42",
   "metadata": {},
   "outputs": [
    {
     "data": {
      "text/html": [
       "<div>\n",
       "<style scoped>\n",
       "    .dataframe tbody tr th:only-of-type {\n",
       "        vertical-align: middle;\n",
       "    }\n",
       "\n",
       "    .dataframe tbody tr th {\n",
       "        vertical-align: top;\n",
       "    }\n",
       "\n",
       "    .dataframe thead th {\n",
       "        text-align: right;\n",
       "    }\n",
       "</style>\n",
       "<table border=\"1\" class=\"dataframe\">\n",
       "  <thead>\n",
       "    <tr style=\"text-align: right;\">\n",
       "      <th></th>\n",
       "      <th>Location</th>\n",
       "      <th>Indicator</th>\n",
       "      <th>Period</th>\n",
       "      <th>First Tooltip</th>\n",
       "    </tr>\n",
       "  </thead>\n",
       "  <tbody>\n",
       "    <tr>\n",
       "      <th>0</th>\n",
       "      <td>Afghanistan</td>\n",
       "      <td>Incidence of tuberculosis (per 100 000 populat...</td>\n",
       "      <td>2019</td>\n",
       "      <td>189 [122-270]</td>\n",
       "    </tr>\n",
       "    <tr>\n",
       "      <th>1</th>\n",
       "      <td>Afghanistan</td>\n",
       "      <td>Incidence of tuberculosis (per 100 000 populat...</td>\n",
       "      <td>2018</td>\n",
       "      <td>189 [122-270]</td>\n",
       "    </tr>\n",
       "    <tr>\n",
       "      <th>2</th>\n",
       "      <td>Afghanistan</td>\n",
       "      <td>Incidence of tuberculosis (per 100 000 populat...</td>\n",
       "      <td>2017</td>\n",
       "      <td>189 [122-270]</td>\n",
       "    </tr>\n",
       "    <tr>\n",
       "      <th>3</th>\n",
       "      <td>Afghanistan</td>\n",
       "      <td>Incidence of tuberculosis (per 100 000 populat...</td>\n",
       "      <td>2016</td>\n",
       "      <td>189 [122-270]</td>\n",
       "    </tr>\n",
       "    <tr>\n",
       "      <th>4</th>\n",
       "      <td>Afghanistan</td>\n",
       "      <td>Incidence of tuberculosis (per 100 000 populat...</td>\n",
       "      <td>2015</td>\n",
       "      <td>189 [122-270]</td>\n",
       "    </tr>\n",
       "  </tbody>\n",
       "</table>\n",
       "</div>"
      ],
      "text/plain": [
       "      Location                                          Indicator  Period  \\\n",
       "0  Afghanistan  Incidence of tuberculosis (per 100 000 populat...    2019   \n",
       "1  Afghanistan  Incidence of tuberculosis (per 100 000 populat...    2018   \n",
       "2  Afghanistan  Incidence of tuberculosis (per 100 000 populat...    2017   \n",
       "3  Afghanistan  Incidence of tuberculosis (per 100 000 populat...    2016   \n",
       "4  Afghanistan  Incidence of tuberculosis (per 100 000 populat...    2015   \n",
       "\n",
       "   First Tooltip  \n",
       "0  189 [122-270]  \n",
       "1  189 [122-270]  \n",
       "2  189 [122-270]  \n",
       "3  189 [122-270]  \n",
       "4  189 [122-270]  "
      ]
     },
     "execution_count": 194,
     "metadata": {},
     "output_type": "execute_result"
    }
   ],
   "source": [
    "tuberculosis.head()"
   ]
  },
  {
   "cell_type": "code",
   "execution_count": 195,
   "id": "135e4cb1",
   "metadata": {},
   "outputs": [
    {
     "data": {
      "text/html": [
       "<div>\n",
       "<style scoped>\n",
       "    .dataframe tbody tr th:only-of-type {\n",
       "        vertical-align: middle;\n",
       "    }\n",
       "\n",
       "    .dataframe tbody tr th {\n",
       "        vertical-align: top;\n",
       "    }\n",
       "\n",
       "    .dataframe thead th {\n",
       "        text-align: right;\n",
       "    }\n",
       "</style>\n",
       "<table border=\"1\" class=\"dataframe\">\n",
       "  <thead>\n",
       "    <tr style=\"text-align: right;\">\n",
       "      <th></th>\n",
       "      <th>Location</th>\n",
       "      <th>Indicator</th>\n",
       "      <th>Period</th>\n",
       "      <th>First Tooltip</th>\n",
       "    </tr>\n",
       "  </thead>\n",
       "  <tbody>\n",
       "    <tr>\n",
       "      <th>0</th>\n",
       "      <td>Afghanistan</td>\n",
       "      <td>Hepatitis B surface antigen (HBsAg) prevalence...</td>\n",
       "      <td>2015</td>\n",
       "      <td>0.5 [0.29-0.78]</td>\n",
       "    </tr>\n",
       "    <tr>\n",
       "      <th>1</th>\n",
       "      <td>Albania</td>\n",
       "      <td>Hepatitis B surface antigen (HBsAg) prevalence...</td>\n",
       "      <td>2015</td>\n",
       "      <td>1.29 [0.83-1.91]</td>\n",
       "    </tr>\n",
       "    <tr>\n",
       "      <th>2</th>\n",
       "      <td>Algeria</td>\n",
       "      <td>Hepatitis B surface antigen (HBsAg) prevalence...</td>\n",
       "      <td>2015</td>\n",
       "      <td>0.22 [0.12-0.34]</td>\n",
       "    </tr>\n",
       "    <tr>\n",
       "      <th>3</th>\n",
       "      <td>Andorra</td>\n",
       "      <td>Hepatitis B surface antigen (HBsAg) prevalence...</td>\n",
       "      <td>2015</td>\n",
       "      <td>0.08 [0-1.65]</td>\n",
       "    </tr>\n",
       "    <tr>\n",
       "      <th>4</th>\n",
       "      <td>Angola</td>\n",
       "      <td>Hepatitis B surface antigen (HBsAg) prevalence...</td>\n",
       "      <td>2015</td>\n",
       "      <td>4.85 [3.29-6.81]</td>\n",
       "    </tr>\n",
       "  </tbody>\n",
       "</table>\n",
       "</div>"
      ],
      "text/plain": [
       "      Location                                          Indicator  Period  \\\n",
       "0  Afghanistan  Hepatitis B surface antigen (HBsAg) prevalence...    2015   \n",
       "1      Albania  Hepatitis B surface antigen (HBsAg) prevalence...    2015   \n",
       "2      Algeria  Hepatitis B surface antigen (HBsAg) prevalence...    2015   \n",
       "3      Andorra  Hepatitis B surface antigen (HBsAg) prevalence...    2015   \n",
       "4       Angola  Hepatitis B surface antigen (HBsAg) prevalence...    2015   \n",
       "\n",
       "      First Tooltip  \n",
       "0   0.5 [0.29-0.78]  \n",
       "1  1.29 [0.83-1.91]  \n",
       "2  0.22 [0.12-0.34]  \n",
       "3     0.08 [0-1.65]  \n",
       "4  4.85 [3.29-6.81]  "
      ]
     },
     "execution_count": 195,
     "metadata": {},
     "output_type": "execute_result"
    }
   ],
   "source": [
    "HBsAg.head()"
   ]
  },
  {
   "cell_type": "code",
   "execution_count": 196,
   "id": "81c15ddb",
   "metadata": {},
   "outputs": [
    {
     "data": {
      "text/html": [
       "<div>\n",
       "<style scoped>\n",
       "    .dataframe tbody tr th:only-of-type {\n",
       "        vertical-align: middle;\n",
       "    }\n",
       "\n",
       "    .dataframe tbody tr th {\n",
       "        vertical-align: top;\n",
       "    }\n",
       "\n",
       "    .dataframe thead th {\n",
       "        text-align: right;\n",
       "    }\n",
       "</style>\n",
       "<table border=\"1\" class=\"dataframe\">\n",
       "  <thead>\n",
       "    <tr style=\"text-align: right;\">\n",
       "      <th></th>\n",
       "      <th>Location</th>\n",
       "      <th>Indicator</th>\n",
       "      <th>Period</th>\n",
       "      <th>First Tooltip</th>\n",
       "    </tr>\n",
       "  </thead>\n",
       "  <tbody>\n",
       "    <tr>\n",
       "      <th>0</th>\n",
       "      <td>Afghanistan</td>\n",
       "      <td>Reported number of people requiring interventi...</td>\n",
       "      <td>2018</td>\n",
       "      <td>14834701</td>\n",
       "    </tr>\n",
       "    <tr>\n",
       "      <th>1</th>\n",
       "      <td>Afghanistan</td>\n",
       "      <td>Reported number of people requiring interventi...</td>\n",
       "      <td>2017</td>\n",
       "      <td>14786722</td>\n",
       "    </tr>\n",
       "    <tr>\n",
       "      <th>2</th>\n",
       "      <td>Afghanistan</td>\n",
       "      <td>Reported number of people requiring interventi...</td>\n",
       "      <td>2016</td>\n",
       "      <td>13275429</td>\n",
       "    </tr>\n",
       "    <tr>\n",
       "      <th>3</th>\n",
       "      <td>Afghanistan</td>\n",
       "      <td>Reported number of people requiring interventi...</td>\n",
       "      <td>2015</td>\n",
       "      <td>13765392</td>\n",
       "    </tr>\n",
       "    <tr>\n",
       "      <th>4</th>\n",
       "      <td>Afghanistan</td>\n",
       "      <td>Reported number of people requiring interventi...</td>\n",
       "      <td>2014</td>\n",
       "      <td>13384908</td>\n",
       "    </tr>\n",
       "  </tbody>\n",
       "</table>\n",
       "</div>"
      ],
      "text/plain": [
       "      Location                                          Indicator  Period  \\\n",
       "0  Afghanistan  Reported number of people requiring interventi...    2018   \n",
       "1  Afghanistan  Reported number of people requiring interventi...    2017   \n",
       "2  Afghanistan  Reported number of people requiring interventi...    2016   \n",
       "3  Afghanistan  Reported number of people requiring interventi...    2015   \n",
       "4  Afghanistan  Reported number of people requiring interventi...    2014   \n",
       "\n",
       "   First Tooltip  \n",
       "0       14834701  \n",
       "1       14786722  \n",
       "2       13275429  \n",
       "3       13765392  \n",
       "4       13384908  "
      ]
     },
     "execution_count": 196,
     "metadata": {},
     "output_type": "execute_result"
    }
   ],
   "source": [
    "NTDs.head()"
   ]
  },
  {
   "cell_type": "code",
   "execution_count": 197,
   "id": "439d53da",
   "metadata": {},
   "outputs": [
    {
     "data": {
      "text/html": [
       "<div>\n",
       "<style scoped>\n",
       "    .dataframe tbody tr th:only-of-type {\n",
       "        vertical-align: middle;\n",
       "    }\n",
       "\n",
       "    .dataframe tbody tr th {\n",
       "        vertical-align: top;\n",
       "    }\n",
       "\n",
       "    .dataframe thead th {\n",
       "        text-align: right;\n",
       "    }\n",
       "</style>\n",
       "<table border=\"1\" class=\"dataframe\">\n",
       "  <thead>\n",
       "    <tr style=\"text-align: right;\">\n",
       "      <th></th>\n",
       "      <th>Location</th>\n",
       "      <th>Period</th>\n",
       "      <th>Indicator</th>\n",
       "      <th>Dim1</th>\n",
       "      <th>First Tooltip</th>\n",
       "    </tr>\n",
       "  </thead>\n",
       "  <tbody>\n",
       "    <tr>\n",
       "      <th>0</th>\n",
       "      <td>Afghanistan</td>\n",
       "      <td>2019</td>\n",
       "      <td>New HIV infections (per 1000 uninfected popula...</td>\n",
       "      <td>Both sexes</td>\n",
       "      <td>0.04 [0.01-0.15]</td>\n",
       "    </tr>\n",
       "    <tr>\n",
       "      <th>1</th>\n",
       "      <td>Afghanistan</td>\n",
       "      <td>2019</td>\n",
       "      <td>New HIV infections (per 1000 uninfected popula...</td>\n",
       "      <td>Male</td>\n",
       "      <td>0.06 [0.02-0.21]</td>\n",
       "    </tr>\n",
       "    <tr>\n",
       "      <th>2</th>\n",
       "      <td>Afghanistan</td>\n",
       "      <td>2019</td>\n",
       "      <td>New HIV infections (per 1000 uninfected popula...</td>\n",
       "      <td>Female</td>\n",
       "      <td>0.03</td>\n",
       "    </tr>\n",
       "    <tr>\n",
       "      <th>3</th>\n",
       "      <td>Afghanistan</td>\n",
       "      <td>2015</td>\n",
       "      <td>New HIV infections (per 1000 uninfected popula...</td>\n",
       "      <td>Both sexes</td>\n",
       "      <td>0.03 [0.01-0.11]</td>\n",
       "    </tr>\n",
       "    <tr>\n",
       "      <th>4</th>\n",
       "      <td>Afghanistan</td>\n",
       "      <td>2015</td>\n",
       "      <td>New HIV infections (per 1000 uninfected popula...</td>\n",
       "      <td>Male</td>\n",
       "      <td>0.05 [0.02-0.16]</td>\n",
       "    </tr>\n",
       "  </tbody>\n",
       "</table>\n",
       "</div>"
      ],
      "text/plain": [
       "      Location  Period                                          Indicator  \\\n",
       "0  Afghanistan    2019  New HIV infections (per 1000 uninfected popula...   \n",
       "1  Afghanistan    2019  New HIV infections (per 1000 uninfected popula...   \n",
       "2  Afghanistan    2019  New HIV infections (per 1000 uninfected popula...   \n",
       "3  Afghanistan    2015  New HIV infections (per 1000 uninfected popula...   \n",
       "4  Afghanistan    2015  New HIV infections (per 1000 uninfected popula...   \n",
       "\n",
       "         Dim1     First Tooltip  \n",
       "0  Both sexes  0.04 [0.01-0.15]  \n",
       "1        Male  0.06 [0.02-0.21]  \n",
       "2      Female              0.03  \n",
       "3  Both sexes  0.03 [0.01-0.11]  \n",
       "4        Male  0.05 [0.02-0.16]  "
      ]
     },
     "execution_count": 197,
     "metadata": {},
     "output_type": "execute_result"
    }
   ],
   "source": [
    "HIV.head()"
   ]
  },
  {
   "cell_type": "markdown",
   "id": "32454068",
   "metadata": {},
   "source": [
    "# Malaria Dataset"
   ]
  },
  {
   "cell_type": "markdown",
   "id": "42ee4b24",
   "metadata": {},
   "source": [
    "# 1. Data Cleaning:"
   ]
  },
  {
   "cell_type": "markdown",
   "id": "02a7392b",
   "metadata": {},
   "source": [
    "check for missing data:"
   ]
  },
  {
   "cell_type": "code",
   "execution_count": 198,
   "id": "d2d57d79",
   "metadata": {},
   "outputs": [
    {
     "data": {
      "text/plain": [
       "Location         0\n",
       "Indicator        0\n",
       "Period           0\n",
       "First Tooltip    0\n",
       "dtype: int64"
      ]
     },
     "execution_count": 198,
     "metadata": {},
     "output_type": "execute_result"
    }
   ],
   "source": [
    "malaria.isnull().sum()"
   ]
  },
  {
   "cell_type": "markdown",
   "id": "4379beb7",
   "metadata": {},
   "source": [
    "check for duplicates:"
   ]
  },
  {
   "cell_type": "code",
   "execution_count": 199,
   "id": "d6990ff2",
   "metadata": {},
   "outputs": [
    {
     "data": {
      "text/plain": [
       "False"
      ]
     },
     "execution_count": 199,
     "metadata": {},
     "output_type": "execute_result"
    }
   ],
   "source": [
    "malaria.duplicated().any()"
   ]
  },
  {
   "cell_type": "markdown",
   "id": "218845e5",
   "metadata": {},
   "source": [
    "data validation check:"
   ]
  },
  {
   "cell_type": "code",
   "execution_count": 200,
   "id": "f1944362",
   "metadata": {},
   "outputs": [
    {
     "name": "stdout",
     "output_type": "stream",
     "text": [
      "<class 'pandas.core.frame.DataFrame'>\n",
      "RangeIndex: 2033 entries, 0 to 2032\n",
      "Data columns (total 4 columns):\n",
      " #   Column         Non-Null Count  Dtype  \n",
      "---  ------         --------------  -----  \n",
      " 0   Location       2033 non-null   object \n",
      " 1   Indicator      2033 non-null   object \n",
      " 2   Period         2033 non-null   int64  \n",
      " 3   First Tooltip  2033 non-null   float64\n",
      "dtypes: float64(1), int64(1), object(2)\n",
      "memory usage: 63.7+ KB\n"
     ]
    }
   ],
   "source": [
    "malaria.info()"
   ]
  },
  {
   "cell_type": "code",
   "execution_count": 201,
   "id": "b40e57dc",
   "metadata": {},
   "outputs": [
    {
     "data": {
      "text/html": [
       "<div>\n",
       "<style scoped>\n",
       "    .dataframe tbody tr th:only-of-type {\n",
       "        vertical-align: middle;\n",
       "    }\n",
       "\n",
       "    .dataframe tbody tr th {\n",
       "        vertical-align: top;\n",
       "    }\n",
       "\n",
       "    .dataframe thead th {\n",
       "        text-align: right;\n",
       "    }\n",
       "</style>\n",
       "<table border=\"1\" class=\"dataframe\">\n",
       "  <thead>\n",
       "    <tr style=\"text-align: right;\">\n",
       "      <th></th>\n",
       "      <th>Period</th>\n",
       "      <th>First Tooltip</th>\n",
       "    </tr>\n",
       "  </thead>\n",
       "  <tbody>\n",
       "    <tr>\n",
       "      <th>count</th>\n",
       "      <td>2033.000000</td>\n",
       "      <td>2033.000000</td>\n",
       "    </tr>\n",
       "    <tr>\n",
       "      <th>mean</th>\n",
       "      <td>2009.000000</td>\n",
       "      <td>109.186490</td>\n",
       "    </tr>\n",
       "    <tr>\n",
       "      <th>std</th>\n",
       "      <td>5.478573</td>\n",
       "      <td>157.895669</td>\n",
       "    </tr>\n",
       "    <tr>\n",
       "      <th>min</th>\n",
       "      <td>2000.000000</td>\n",
       "      <td>0.000000</td>\n",
       "    </tr>\n",
       "    <tr>\n",
       "      <th>25%</th>\n",
       "      <td>2004.000000</td>\n",
       "      <td>0.520000</td>\n",
       "    </tr>\n",
       "    <tr>\n",
       "      <th>50%</th>\n",
       "      <td>2009.000000</td>\n",
       "      <td>11.150000</td>\n",
       "    </tr>\n",
       "    <tr>\n",
       "      <th>75%</th>\n",
       "      <td>2014.000000</td>\n",
       "      <td>200.000000</td>\n",
       "    </tr>\n",
       "    <tr>\n",
       "      <th>max</th>\n",
       "      <td>2018.000000</td>\n",
       "      <td>743.500000</td>\n",
       "    </tr>\n",
       "  </tbody>\n",
       "</table>\n",
       "</div>"
      ],
      "text/plain": [
       "            Period  First Tooltip\n",
       "count  2033.000000    2033.000000\n",
       "mean   2009.000000     109.186490\n",
       "std       5.478573     157.895669\n",
       "min    2000.000000       0.000000\n",
       "25%    2004.000000       0.520000\n",
       "50%    2009.000000      11.150000\n",
       "75%    2014.000000     200.000000\n",
       "max    2018.000000     743.500000"
      ]
     },
     "execution_count": 201,
     "metadata": {},
     "output_type": "execute_result"
    }
   ],
   "source": [
    "malaria.describe()"
   ]
  },
  {
   "cell_type": "code",
   "execution_count": 202,
   "id": "0e2dc13d",
   "metadata": {},
   "outputs": [
    {
     "data": {
      "text/plain": [
       "Location          object\n",
       "Indicator         object\n",
       "Period             int64\n",
       "First Tooltip    float64\n",
       "dtype: object"
      ]
     },
     "execution_count": 202,
     "metadata": {},
     "output_type": "execute_result"
    }
   ],
   "source": [
    "malaria.dtypes"
   ]
  },
  {
   "cell_type": "code",
   "execution_count": 203,
   "id": "d6ec388a",
   "metadata": {},
   "outputs": [],
   "source": [
    "malaria = df.rename(columns={'Period': 'Year'})"
   ]
  },
  {
   "cell_type": "code",
   "execution_count": 204,
   "id": "0fc2bdad",
   "metadata": {},
   "outputs": [],
   "source": [
    "malaria['Period'] = pd.to_datetime(malaria['Year'], format='%Y')"
   ]
  },
  {
   "cell_type": "code",
   "execution_count": 205,
   "id": "7e564747",
   "metadata": {},
   "outputs": [
    {
     "data": {
      "text/plain": [
       "Location                 object\n",
       "Indicator                object\n",
       "Year                      int64\n",
       "First Tooltip           float64\n",
       "Period           datetime64[ns]\n",
       "dtype: object"
      ]
     },
     "execution_count": 205,
     "metadata": {},
     "output_type": "execute_result"
    }
   ],
   "source": [
    "malaria.dtypes"
   ]
  },
  {
   "cell_type": "markdown",
   "id": "8f59db47",
   "metadata": {},
   "source": [
    "check for outliers:"
   ]
  },
  {
   "cell_type": "code",
   "execution_count": 206,
   "id": "6e73aa81",
   "metadata": {},
   "outputs": [
    {
     "data": {
      "image/png": "[encoded data removed]",
      "text/plain": [
       "<Figure size 640x480 with 1 Axes>"
      ]
     },
     "metadata": {},
     "output_type": "display_data"
    }
   ],
   "source": [
    "sns.boxplot(x=malaria['First Tooltip'])\n",
    "plt.show()"
   ]
  },
  {
   "cell_type": "markdown",
   "id": "7b0cada8",
   "metadata": {},
   "source": [
    "# 2. Feature Engineering:"
   ]
  },
  {
   "cell_type": "markdown",
   "id": "1c2e7355",
   "metadata": {},
   "source": [
    "Create Derived Features:"
   ]
  },
  {
   "cell_type": "code",
   "execution_count": 207,
   "id": "76b3ffd3",
   "metadata": {},
   "outputs": [],
   "source": [
    "malaria['Period range'] = malaria['Period'].apply(lambda x: 'Before 2014' if x.year < 2014 else '2014 and After')"
   ]
  },
  {
   "cell_type": "code",
   "execution_count": 208,
   "id": "4e750adc",
   "metadata": {},
   "outputs": [
    {
     "data": {
      "text/html": [
       "<div>\n",
       "<style scoped>\n",
       "    .dataframe tbody tr th:only-of-type {\n",
       "        vertical-align: middle;\n",
       "    }\n",
       "\n",
       "    .dataframe tbody tr th {\n",
       "        vertical-align: top;\n",
       "    }\n",
       "\n",
       "    .dataframe thead th {\n",
       "        text-align: right;\n",
       "    }\n",
       "</style>\n",
       "<table border=\"1\" class=\"dataframe\">\n",
       "  <thead>\n",
       "    <tr style=\"text-align: right;\">\n",
       "      <th></th>\n",
       "      <th>Location</th>\n",
       "      <th>Indicator</th>\n",
       "      <th>Year</th>\n",
       "      <th>First Tooltip</th>\n",
       "      <th>Period</th>\n",
       "      <th>Period range</th>\n",
       "    </tr>\n",
       "  </thead>\n",
       "  <tbody>\n",
       "    <tr>\n",
       "      <th>0</th>\n",
       "      <td>Afghanistan</td>\n",
       "      <td>Malaria incidence (per 1 000 population at risk)</td>\n",
       "      <td>2018</td>\n",
       "      <td>29.01</td>\n",
       "      <td>2018-01-01</td>\n",
       "      <td>2014 and After</td>\n",
       "    </tr>\n",
       "    <tr>\n",
       "      <th>1</th>\n",
       "      <td>Afghanistan</td>\n",
       "      <td>Malaria incidence (per 1 000 population at risk)</td>\n",
       "      <td>2017</td>\n",
       "      <td>27.07</td>\n",
       "      <td>2017-01-01</td>\n",
       "      <td>2014 and After</td>\n",
       "    </tr>\n",
       "    <tr>\n",
       "      <th>2</th>\n",
       "      <td>Afghanistan</td>\n",
       "      <td>Malaria incidence (per 1 000 population at risk)</td>\n",
       "      <td>2016</td>\n",
       "      <td>26.11</td>\n",
       "      <td>2016-01-01</td>\n",
       "      <td>2014 and After</td>\n",
       "    </tr>\n",
       "    <tr>\n",
       "      <th>3</th>\n",
       "      <td>Afghanistan</td>\n",
       "      <td>Malaria incidence (per 1 000 population at risk)</td>\n",
       "      <td>2015</td>\n",
       "      <td>14.91</td>\n",
       "      <td>2015-01-01</td>\n",
       "      <td>2014 and After</td>\n",
       "    </tr>\n",
       "    <tr>\n",
       "      <th>4</th>\n",
       "      <td>Afghanistan</td>\n",
       "      <td>Malaria incidence (per 1 000 population at risk)</td>\n",
       "      <td>2014</td>\n",
       "      <td>12.67</td>\n",
       "      <td>2014-01-01</td>\n",
       "      <td>2014 and After</td>\n",
       "    </tr>\n",
       "  </tbody>\n",
       "</table>\n",
       "</div>"
      ],
      "text/plain": [
       "      Location                                         Indicator  Year  \\\n",
       "0  Afghanistan  Malaria incidence (per 1 000 population at risk)  2018   \n",
       "1  Afghanistan  Malaria incidence (per 1 000 population at risk)  2017   \n",
       "2  Afghanistan  Malaria incidence (per 1 000 population at risk)  2016   \n",
       "3  Afghanistan  Malaria incidence (per 1 000 population at risk)  2015   \n",
       "4  Afghanistan  Malaria incidence (per 1 000 population at risk)  2014   \n",
       "\n",
       "   First Tooltip     Period    Period range  \n",
       "0          29.01 2018-01-01  2014 and After  \n",
       "1          27.07 2017-01-01  2014 and After  \n",
       "2          26.11 2016-01-01  2014 and After  \n",
       "3          14.91 2015-01-01  2014 and After  \n",
       "4          12.67 2014-01-01  2014 and After  "
      ]
     },
     "execution_count": 208,
     "metadata": {},
     "output_type": "execute_result"
    }
   ],
   "source": [
    "malaria.head()"
   ]
  },
  {
   "cell_type": "markdown",
   "id": "0e52ffaa",
   "metadata": {},
   "source": [
    "Encode Categorical Variables:"
   ]
  },
  {
   "cell_type": "markdown",
   "id": "63e566f1",
   "metadata": {},
   "source": [
    "first, we will convert the categorical columns into numerical columns. we will use label encoding for Indicator column because it has ordinal variables and one-hot encoding for Location column because it has nominal variables. but we will enode the column Location in the upcoming steps."
   ]
  },
  {
   "cell_type": "code",
   "execution_count": 209,
   "id": "7be1f4a3",
   "metadata": {},
   "outputs": [],
   "source": [
    "malaria['Indicator_encoding'] = malaria['Indicator'].astype('category').cat.codes"
   ]
  },
  {
   "cell_type": "code",
   "execution_count": 210,
   "id": "77d7fba4",
   "metadata": {},
   "outputs": [
    {
     "data": {
      "text/html": [
       "<div>\n",
       "<style scoped>\n",
       "    .dataframe tbody tr th:only-of-type {\n",
       "        vertical-align: middle;\n",
       "    }\n",
       "\n",
       "    .dataframe tbody tr th {\n",
       "        vertical-align: top;\n",
       "    }\n",
       "\n",
       "    .dataframe thead th {\n",
       "        text-align: right;\n",
       "    }\n",
       "</style>\n",
       "<table border=\"1\" class=\"dataframe\">\n",
       "  <thead>\n",
       "    <tr style=\"text-align: right;\">\n",
       "      <th></th>\n",
       "      <th>Location</th>\n",
       "      <th>Indicator</th>\n",
       "      <th>Year</th>\n",
       "      <th>First Tooltip</th>\n",
       "      <th>Period</th>\n",
       "      <th>Period range</th>\n",
       "      <th>Indicator_encoding</th>\n",
       "    </tr>\n",
       "  </thead>\n",
       "  <tbody>\n",
       "    <tr>\n",
       "      <th>0</th>\n",
       "      <td>Afghanistan</td>\n",
       "      <td>Malaria incidence (per 1 000 population at risk)</td>\n",
       "      <td>2018</td>\n",
       "      <td>29.01</td>\n",
       "      <td>2018-01-01</td>\n",
       "      <td>2014 and After</td>\n",
       "      <td>0</td>\n",
       "    </tr>\n",
       "    <tr>\n",
       "      <th>1</th>\n",
       "      <td>Afghanistan</td>\n",
       "      <td>Malaria incidence (per 1 000 population at risk)</td>\n",
       "      <td>2017</td>\n",
       "      <td>27.07</td>\n",
       "      <td>2017-01-01</td>\n",
       "      <td>2014 and After</td>\n",
       "      <td>0</td>\n",
       "    </tr>\n",
       "    <tr>\n",
       "      <th>2</th>\n",
       "      <td>Afghanistan</td>\n",
       "      <td>Malaria incidence (per 1 000 population at risk)</td>\n",
       "      <td>2016</td>\n",
       "      <td>26.11</td>\n",
       "      <td>2016-01-01</td>\n",
       "      <td>2014 and After</td>\n",
       "      <td>0</td>\n",
       "    </tr>\n",
       "    <tr>\n",
       "      <th>3</th>\n",
       "      <td>Afghanistan</td>\n",
       "      <td>Malaria incidence (per 1 000 population at risk)</td>\n",
       "      <td>2015</td>\n",
       "      <td>14.91</td>\n",
       "      <td>2015-01-01</td>\n",
       "      <td>2014 and After</td>\n",
       "      <td>0</td>\n",
       "    </tr>\n",
       "    <tr>\n",
       "      <th>4</th>\n",
       "      <td>Afghanistan</td>\n",
       "      <td>Malaria incidence (per 1 000 population at risk)</td>\n",
       "      <td>2014</td>\n",
       "      <td>12.67</td>\n",
       "      <td>2014-01-01</td>\n",
       "      <td>2014 and After</td>\n",
       "      <td>0</td>\n",
       "    </tr>\n",
       "  </tbody>\n",
       "</table>\n",
       "</div>"
      ],
      "text/plain": [
       "      Location                                         Indicator  Year  \\\n",
       "0  Afghanistan  Malaria incidence (per 1 000 population at risk)  2018   \n",
       "1  Afghanistan  Malaria incidence (per 1 000 population at risk)  2017   \n",
       "2  Afghanistan  Malaria incidence (per 1 000 population at risk)  2016   \n",
       "3  Afghanistan  Malaria incidence (per 1 000 population at risk)  2015   \n",
       "4  Afghanistan  Malaria incidence (per 1 000 population at risk)  2014   \n",
       "\n",
       "   First Tooltip     Period    Period range  Indicator_encoding  \n",
       "0          29.01 2018-01-01  2014 and After                   0  \n",
       "1          27.07 2017-01-01  2014 and After                   0  \n",
       "2          26.11 2016-01-01  2014 and After                   0  \n",
       "3          14.91 2015-01-01  2014 and After                   0  \n",
       "4          12.67 2014-01-01  2014 and After                   0  "
      ]
     },
     "execution_count": 210,
     "metadata": {},
     "output_type": "execute_result"
    }
   ],
   "source": [
    "malaria.head()"
   ]
  },
  {
   "cell_type": "markdown",
   "id": "792b7b56",
   "metadata": {},
   "source": [
    "# 3. Data Transformation:"
   ]
  },
  {
   "cell_type": "markdown",
   "id": "836c9a25",
   "metadata": {},
   "source": [
    "Standardization:"
   ]
  },
  {
   "cell_type": "code",
   "execution_count": 211,
   "id": "b943c891",
   "metadata": {},
   "outputs": [],
   "source": [
    "scaler = StandardScaler()\n",
    "malaria['First Tooltip Scaled'] = scaler.fit_transform(malaria[['First Tooltip']])"
   ]
  },
  {
   "cell_type": "code",
   "execution_count": 212,
   "id": "4af7db20",
   "metadata": {},
   "outputs": [
    {
     "data": {
      "text/html": [
       "<div>\n",
       "<style scoped>\n",
       "    .dataframe tbody tr th:only-of-type {\n",
       "        vertical-align: middle;\n",
       "    }\n",
       "\n",
       "    .dataframe tbody tr th {\n",
       "        vertical-align: top;\n",
       "    }\n",
       "\n",
       "    .dataframe thead th {\n",
       "        text-align: right;\n",
       "    }\n",
       "</style>\n",
       "<table border=\"1\" class=\"dataframe\">\n",
       "  <thead>\n",
       "    <tr style=\"text-align: right;\">\n",
       "      <th></th>\n",
       "      <th>Location</th>\n",
       "      <th>Indicator</th>\n",
       "      <th>Year</th>\n",
       "      <th>First Tooltip</th>\n",
       "      <th>Period</th>\n",
       "      <th>Period range</th>\n",
       "      <th>Indicator_encoding</th>\n",
       "      <th>First Tooltip Scaled</th>\n",
       "    </tr>\n",
       "  </thead>\n",
       "  <tbody>\n",
       "    <tr>\n",
       "      <th>0</th>\n",
       "      <td>Afghanistan</td>\n",
       "      <td>Malaria incidence (per 1 000 population at risk)</td>\n",
       "      <td>2018</td>\n",
       "      <td>29.01</td>\n",
       "      <td>2018-01-01</td>\n",
       "      <td>2014 and After</td>\n",
       "      <td>0</td>\n",
       "      <td>-0.507906</td>\n",
       "    </tr>\n",
       "    <tr>\n",
       "      <th>1</th>\n",
       "      <td>Afghanistan</td>\n",
       "      <td>Malaria incidence (per 1 000 population at risk)</td>\n",
       "      <td>2017</td>\n",
       "      <td>27.07</td>\n",
       "      <td>2017-01-01</td>\n",
       "      <td>2014 and After</td>\n",
       "      <td>0</td>\n",
       "      <td>-0.520196</td>\n",
       "    </tr>\n",
       "    <tr>\n",
       "      <th>2</th>\n",
       "      <td>Afghanistan</td>\n",
       "      <td>Malaria incidence (per 1 000 population at risk)</td>\n",
       "      <td>2016</td>\n",
       "      <td>26.11</td>\n",
       "      <td>2016-01-01</td>\n",
       "      <td>2014 and After</td>\n",
       "      <td>0</td>\n",
       "      <td>-0.526277</td>\n",
       "    </tr>\n",
       "    <tr>\n",
       "      <th>3</th>\n",
       "      <td>Afghanistan</td>\n",
       "      <td>Malaria incidence (per 1 000 population at risk)</td>\n",
       "      <td>2015</td>\n",
       "      <td>14.91</td>\n",
       "      <td>2015-01-01</td>\n",
       "      <td>2014 and After</td>\n",
       "      <td>0</td>\n",
       "      <td>-0.597228</td>\n",
       "    </tr>\n",
       "    <tr>\n",
       "      <th>4</th>\n",
       "      <td>Afghanistan</td>\n",
       "      <td>Malaria incidence (per 1 000 population at risk)</td>\n",
       "      <td>2014</td>\n",
       "      <td>12.67</td>\n",
       "      <td>2014-01-01</td>\n",
       "      <td>2014 and After</td>\n",
       "      <td>0</td>\n",
       "      <td>-0.611418</td>\n",
       "    </tr>\n",
       "  </tbody>\n",
       "</table>\n",
       "</div>"
      ],
      "text/plain": [
       "      Location                                         Indicator  Year  \\\n",
       "0  Afghanistan  Malaria incidence (per 1 000 population at risk)  2018   \n",
       "1  Afghanistan  Malaria incidence (per 1 000 population at risk)  2017   \n",
       "2  Afghanistan  Malaria incidence (per 1 000 population at risk)  2016   \n",
       "3  Afghanistan  Malaria incidence (per 1 000 population at risk)  2015   \n",
       "4  Afghanistan  Malaria incidence (per 1 000 population at risk)  2014   \n",
       "\n",
       "   First Tooltip     Period    Period range  Indicator_encoding  \\\n",
       "0          29.01 2018-01-01  2014 and After                   0   \n",
       "1          27.07 2017-01-01  2014 and After                   0   \n",
       "2          26.11 2016-01-01  2014 and After                   0   \n",
       "3          14.91 2015-01-01  2014 and After                   0   \n",
       "4          12.67 2014-01-01  2014 and After                   0   \n",
       "\n",
       "   First Tooltip Scaled  \n",
       "0             -0.507906  \n",
       "1             -0.520196  \n",
       "2             -0.526277  \n",
       "3             -0.597228  \n",
       "4             -0.611418  "
      ]
     },
     "execution_count": 212,
     "metadata": {},
     "output_type": "execute_result"
    }
   ],
   "source": [
    "malaria.head()"
   ]
  },
  {
   "cell_type": "markdown",
   "id": "fbf6e9c8",
   "metadata": {},
   "source": [
    "Transform Skewed Data:"
   ]
  },
  {
   "cell_type": "code",
   "execution_count": 213,
   "id": "e96bc16b",
   "metadata": {},
   "outputs": [
    {
     "name": "stdout",
     "output_type": "stream",
     "text": [
      "1.2909617002636702\n"
     ]
    }
   ],
   "source": [
    "print(malaria['First Tooltip'].skew())"
   ]
  },
  {
   "cell_type": "markdown",
   "id": "9cdbccec",
   "metadata": {},
   "source": [
    "it is skewed because we got a value greater than one, so we will apply the log transformation."
   ]
  },
  {
   "cell_type": "code",
   "execution_count": 214,
   "id": "5c4a2904",
   "metadata": {},
   "outputs": [],
   "source": [
    "malaria['First Tooltip Log'] = np.log1p(malaria['First Tooltip'])"
   ]
  },
  {
   "cell_type": "code",
   "execution_count": 215,
   "id": "9baf3e8b",
   "metadata": {},
   "outputs": [
    {
     "data": {
      "text/html": [
       "<div>\n",
       "<style scoped>\n",
       "    .dataframe tbody tr th:only-of-type {\n",
       "        vertical-align: middle;\n",
       "    }\n",
       "\n",
       "    .dataframe tbody tr th {\n",
       "        vertical-align: top;\n",
       "    }\n",
       "\n",
       "    .dataframe thead th {\n",
       "        text-align: right;\n",
       "    }\n",
       "</style>\n",
       "<table border=\"1\" class=\"dataframe\">\n",
       "  <thead>\n",
       "    <tr style=\"text-align: right;\">\n",
       "      <th></th>\n",
       "      <th>Location</th>\n",
       "      <th>Indicator</th>\n",
       "      <th>Year</th>\n",
       "      <th>First Tooltip</th>\n",
       "      <th>Period</th>\n",
       "      <th>Period range</th>\n",
       "      <th>Indicator_encoding</th>\n",
       "      <th>First Tooltip Scaled</th>\n",
       "      <th>First Tooltip Log</th>\n",
       "    </tr>\n",
       "  </thead>\n",
       "  <tbody>\n",
       "    <tr>\n",
       "      <th>0</th>\n",
       "      <td>Afghanistan</td>\n",
       "      <td>Malaria incidence (per 1 000 population at risk)</td>\n",
       "      <td>2018</td>\n",
       "      <td>29.01</td>\n",
       "      <td>2018-01-01</td>\n",
       "      <td>2014 and After</td>\n",
       "      <td>0</td>\n",
       "      <td>-0.507906</td>\n",
       "      <td>3.401531</td>\n",
       "    </tr>\n",
       "    <tr>\n",
       "      <th>1</th>\n",
       "      <td>Afghanistan</td>\n",
       "      <td>Malaria incidence (per 1 000 population at risk)</td>\n",
       "      <td>2017</td>\n",
       "      <td>27.07</td>\n",
       "      <td>2017-01-01</td>\n",
       "      <td>2014 and After</td>\n",
       "      <td>0</td>\n",
       "      <td>-0.520196</td>\n",
       "      <td>3.334701</td>\n",
       "    </tr>\n",
       "    <tr>\n",
       "      <th>2</th>\n",
       "      <td>Afghanistan</td>\n",
       "      <td>Malaria incidence (per 1 000 population at risk)</td>\n",
       "      <td>2016</td>\n",
       "      <td>26.11</td>\n",
       "      <td>2016-01-01</td>\n",
       "      <td>2014 and After</td>\n",
       "      <td>0</td>\n",
       "      <td>-0.526277</td>\n",
       "      <td>3.299903</td>\n",
       "    </tr>\n",
       "    <tr>\n",
       "      <th>3</th>\n",
       "      <td>Afghanistan</td>\n",
       "      <td>Malaria incidence (per 1 000 population at risk)</td>\n",
       "      <td>2015</td>\n",
       "      <td>14.91</td>\n",
       "      <td>2015-01-01</td>\n",
       "      <td>2014 and After</td>\n",
       "      <td>0</td>\n",
       "      <td>-0.597228</td>\n",
       "      <td>2.766948</td>\n",
       "    </tr>\n",
       "    <tr>\n",
       "      <th>4</th>\n",
       "      <td>Afghanistan</td>\n",
       "      <td>Malaria incidence (per 1 000 population at risk)</td>\n",
       "      <td>2014</td>\n",
       "      <td>12.67</td>\n",
       "      <td>2014-01-01</td>\n",
       "      <td>2014 and After</td>\n",
       "      <td>0</td>\n",
       "      <td>-0.611418</td>\n",
       "      <td>2.615204</td>\n",
       "    </tr>\n",
       "  </tbody>\n",
       "</table>\n",
       "</div>"
      ],
      "text/plain": [
       "      Location                                         Indicator  Year  \\\n",
       "0  Afghanistan  Malaria incidence (per 1 000 population at risk)  2018   \n",
       "1  Afghanistan  Malaria incidence (per 1 000 population at risk)  2017   \n",
       "2  Afghanistan  Malaria incidence (per 1 000 population at risk)  2016   \n",
       "3  Afghanistan  Malaria incidence (per 1 000 population at risk)  2015   \n",
       "4  Afghanistan  Malaria incidence (per 1 000 population at risk)  2014   \n",
       "\n",
       "   First Tooltip     Period    Period range  Indicator_encoding  \\\n",
       "0          29.01 2018-01-01  2014 and After                   0   \n",
       "1          27.07 2017-01-01  2014 and After                   0   \n",
       "2          26.11 2016-01-01  2014 and After                   0   \n",
       "3          14.91 2015-01-01  2014 and After                   0   \n",
       "4          12.67 2014-01-01  2014 and After                   0   \n",
       "\n",
       "   First Tooltip Scaled  First Tooltip Log  \n",
       "0             -0.507906           3.401531  \n",
       "1             -0.520196           3.334701  \n",
       "2             -0.526277           3.299903  \n",
       "3             -0.597228           2.766948  \n",
       "4             -0.611418           2.615204  "
      ]
     },
     "execution_count": 215,
     "metadata": {},
     "output_type": "execute_result"
    }
   ],
   "source": [
    "malaria.head()"
   ]
  },
  {
   "cell_type": "markdown",
   "id": "c7727d89",
   "metadata": {},
   "source": [
    "# 4. Feature Selection:"
   ]
  },
  {
   "cell_type": "code",
   "execution_count": 216,
   "id": "98c8f8d9",
   "metadata": {},
   "outputs": [
    {
     "data": {
      "image/png": "[encoded data removed]",
      "text/plain": [
       "<Figure size 640x480 with 2 Axes>"
      ]
     },
     "metadata": {},
     "output_type": "display_data"
    }
   ],
   "source": [
    "correlation = malaria.corr()\n",
    "sns.heatmap(correlation, annot=True, cmap='coolwarm')\n",
    "plt.show()"
   ]
  },
  {
   "cell_type": "markdown",
   "id": "e338be26",
   "metadata": {},
   "source": [
    "it appears that tooltip is correlated with year, with a correlation of -0.13, implying that the more years increasing the lower the tooltip is becoming."
   ]
  },
  {
   "cell_type": "markdown",
   "id": "23f35a1e",
   "metadata": {},
   "source": [
    "# 5. Split Data:"
   ]
  },
  {
   "cell_type": "markdown",
   "id": "cf1ba023",
   "metadata": {},
   "source": [
    "Train-Test Split:"
   ]
  }
 ],
 "metadata": {
  "kernelspec": {
   "display_name": "Python 3 (ipykernel)",
   "language": "python",
   "name": "python3"
  },
  "language_info": {
   "codemirror_mode": {
    "name": "ipython",
    "version": 3
   },
   "file_extension": ".py",
   "mimetype": "text/x-python",
   "name": "python",
   "nbconvert_exporter": "python",
   "pygments_lexer": "ipython3",
   "version": "3.9.13"
  }
 },
 "nbformat": 4,
 "nbformat_minor": 5
}
