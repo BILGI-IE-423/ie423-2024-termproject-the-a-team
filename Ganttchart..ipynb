{
 "cells": [
  {
   "cell_type": "code",
   "execution_count": null,
   "id": "b3d6518f-7f67-4dbb-8d3b-f38176cf1198",
   "metadata": {},
   "outputs": [],
   "source": [
    "!pip install matplotlib\n",
    "!pip install pandas\n",
    "!pip install matplotlib.pyplot as plt\n",
    "import pandas as pd"
   ]
  },
  {
   "cell_type": "markdown",
   "id": "cfa7ad97-845f-4b98-9fcf-9f10982f14ec",
   "metadata": {},
   "source": [
    "# Data for Gantt chart"
   ]
  },
  {
   "cell_type": "code",
   "execution_count": null,
   "id": "dbc87649-17f7-47e2-bd95-f901fe9cc120",
   "metadata": {},
   "outputs": [],
   "source": [
    "\n",
    "\n",
    "data = {\n",
    "    \"Task\": [\"Data Set Merging\", \"Validation\", \"Data Handling\",\"Model Training\",\"Performance Measures\", \"Final Testing\"],\n",
    "    \"Start Date\": [\"2024-05-01\", \"2024-05-16\", \"2024-05-21\",\"2024-05-26\",\"2024-06-06\",\"2024-06-06\"],\n",
    "    \"End Date\": [\"2024-05-15\", \"2024-05-20\", \"2024-05-25\",\"2024-06-18\",\"2024-06-19\",\"2024-06-19\"],\n",
    "}\n",
    "\n",
    "df = pd.DataFrame(data)\n",
    "df[\"Start Date\"] = pd.to_datetime(df[\"Start Date\"])\n",
    "df[\"End Date\"] = pd.to_datetime(df[\"End Date\"])\n"
   ]
  },
  {
   "cell_type": "markdown",
   "id": "8e3b48b5-869c-43d3-83f1-e20b88ca1572",
   "metadata": {},
   "source": [
    "# Plotting the Gantt chart"
   ]
  },
  {
   "cell_type": "code",
   "execution_count": null,
   "id": "24567ac0-209d-403f-a5d9-26b57d9b6004",
   "metadata": {},
   "outputs": [],
   "source": [
    "fig, ax = plt.subplots(figsize=(10, 5))\n",
    "\n",
    "for i, row in df.iterrows():\n",
    "    ax.barh(row[\"Task\"], width=row[\"End Date\"] - row[\"Start Date\"], left=row[\"Start Date\"])\n",
    "\n",
    "ax.set_xlabel(\"Timeline\")\n",
    "ax.set_ylabel(\"Tasks\")\n",
    "ax.set_title(\"The A Team Project Gantt Chart\")\n",
    "plt.style.use('Solarize_Light2') #Added for style elements.\n",
    "plt.grid(True) # Added for style elements.\n",
    "plt.show()\n",
    "plt.savefig('gantt_chart.png') # Saving the figure to upload for Markdow"
   ]
  }
 ],
 "metadata": {
  "kernelspec": {
   "display_name": "Python 3 (ipykernel)",
   "language": "python",
   "name": "python3"
  },
  "language_info": {
   "codemirror_mode": {
    "name": "ipython",
    "version": 3
   },
   "file_extension": ".py",
   "mimetype": "text/x-python",
   "name": "python",
   "nbconvert_exporter": "python",
   "pygments_lexer": "ipython3",
   "version": "3.12.2"
  }
 },
 "nbformat": 4,
 "nbformat_minor": 5
}
