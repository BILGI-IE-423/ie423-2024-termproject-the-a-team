{
 "cells": [
  {
   "cell_type": "markdown",
   "id": "c1d816f4-c5de-4294-8416-688b2e8cb7b5",
   "metadata": {},
   "source": [
    "!pip install matplotlib\n",
    "!pip install pandas\n",
    "!pip install matplotlib.pyplot as plt\n",
    "import pandas as pd"
   ]
  },
  {
   "cell_type": "code",
   "execution_count": null,
   "id": "a7a38b19-e654-47a0-b3ef-daf996cbd0c9",
   "metadata": {},
   "outputs": [],
   "source": [
    "# Data for Gantt chart\n",
    "data = {\n",
    "    \"Task\": [\"Data Set Merging\", \"Validation\", \"Data Handling\",\"Model Training\",\"Performance Measures\", \"Final Testing\"],\n",
    "    \"Start Date\": [\"2024-05-01\", \"2024-05-16\", \"2024-05-21\",\"2024-05-26\",\"2024-06-06\",\"2024-06-06\"],\n",
    "    \"End Date\": [\"2024-05-15\", \"2024-05-20\", \"2024-05-25\",\"2024-06-18\",\"2024-06-19\",\"2024-06-19\"],\n",
    "}\n",
    "\n",
    "df = pd.DataFrame(data)\n",
    "df[\"Start Date\"] = pd.to_datetime(df[\"Start Date\"])\n",
    "df[\"End Date\"] = pd.to_datetime(df[\"End Date\"])\n",
    "\n",
    "# Plotting the Gantt chart\n",
    "fig, ax = plt.subplots(figsize=(10, 5))\n",
    "\n",
    "for i, row in df.iterrows():\n",
    "    ax.barh(row[\"Task\"], width=row[\"End Date\"] - row[\"Start Date\"], left=row[\"Start Date\"])\n",
    "\n",
    "ax.set_xlabel(\"Timeline\")\n",
    "ax.set_ylabel(\"Tasks\")\n",
    "ax.set_title(\"The A Team Project Gantt Chart\")\n",
    "plt.style.use('Solarize_Light2') #Added for style elements.\n",
    "plt.grid(True) # Added for style elements.\n",
    "plt.show()\n",
    "plt.savefig('gantt_chart.png') # Saving the figure to upload for Markdown\n"
   ]
  },
  {
   "cell_type": "markdown",
   "id": "76ad4aca-aef0-4e61-8b1c-39b67a36bb01",
   "metadata": {},
   "source": []
  }
 ],
 "metadata": {
  "kernelspec": {
   "display_name": "Python 3 (ipykernel)",
   "language": "python",
   "name": "python3"
  },
  "language_info": {
   "codemirror_mode": {
    "name": "ipython",
    "version": 3
   },
   "file_extension": ".py",
   "mimetype": "text/x-python",
   "name": "python",
   "nbconvert_exporter": "python",
   "pygments_lexer": "ipython3",
   "version": "3.12.2"
  }
 },
 "nbformat": 4,
 "nbformat_minor": 5
}
