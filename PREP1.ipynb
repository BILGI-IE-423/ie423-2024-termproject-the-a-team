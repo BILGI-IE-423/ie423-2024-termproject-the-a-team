{
 "cells": [
  {
   "cell_type": "code",
   "execution_count": 1,
   "id": "22ed2dad-5878-4498-bf01-eedcf873d00c",
   "metadata": {},
   "outputs": [
    {
     "name": "stdout",
     "output_type": "stream",
     "text": [
      "Requirement already satisfied: pandas in c:\\users\\user\\miniconda3\\lib\\site-packages (2.2.2)\n",
      "Requirement already satisfied: numpy>=1.26.0 in c:\\users\\user\\miniconda3\\lib\\site-packages (from pandas) (1.26.4)\n",
      "Requirement already satisfied: python-dateutil>=2.8.2 in c:\\users\\user\\miniconda3\\lib\\site-packages (from pandas) (2.9.0.post0)\n",
      "Requirement already satisfied: pytz>=2020.1 in c:\\users\\user\\miniconda3\\lib\\site-packages (from pandas) (2024.1)\n",
      "Requirement already satisfied: tzdata>=2022.7 in c:\\users\\user\\miniconda3\\lib\\site-packages (from pandas) (2024.1)\n",
      "Requirement already satisfied: six>=1.5 in c:\\users\\user\\miniconda3\\lib\\site-packages (from python-dateutil>=2.8.2->pandas) (1.16.0)\n",
      "Requirement already satisfied: matplotlib in c:\\users\\user\\miniconda3\\lib\\site-packages (3.8.4)\n",
      "Requirement already satisfied: contourpy>=1.0.1 in c:\\users\\user\\miniconda3\\lib\\site-packages (from matplotlib) (1.2.1)\n",
      "Requirement already satisfied: cycler>=0.10 in c:\\users\\user\\miniconda3\\lib\\site-packages (from matplotlib) (0.12.1)\n",
      "Requirement already satisfied: fonttools>=4.22.0 in c:\\users\\user\\miniconda3\\lib\\site-packages (from matplotlib) (4.51.0)\n",
      "Requirement already satisfied: kiwisolver>=1.3.1 in c:\\users\\user\\miniconda3\\lib\\site-packages (from matplotlib) (1.4.5)\n",
      "Requirement already satisfied: numpy>=1.21 in c:\\users\\user\\miniconda3\\lib\\site-packages (from matplotlib) (1.26.4)\n",
      "Requirement already satisfied: packaging>=20.0 in c:\\users\\user\\miniconda3\\lib\\site-packages (from matplotlib) (23.1)\n",
      "Requirement already satisfied: pillow>=8 in c:\\users\\user\\miniconda3\\lib\\site-packages (from matplotlib) (10.3.0)\n",
      "Requirement already satisfied: pyparsing>=2.3.1 in c:\\users\\user\\miniconda3\\lib\\site-packages (from matplotlib) (3.1.2)\n",
      "Requirement already satisfied: python-dateutil>=2.7 in c:\\users\\user\\miniconda3\\lib\\site-packages (from matplotlib) (2.9.0.post0)\n",
      "Requirement already satisfied: six>=1.5 in c:\\users\\user\\miniconda3\\lib\\site-packages (from python-dateutil>=2.7->matplotlib) (1.16.0)\n",
      "Requirement already satisfied: seaborn in c:\\users\\user\\miniconda3\\lib\\site-packages (0.13.2)\n",
      "Requirement already satisfied: numpy!=1.24.0,>=1.20 in c:\\users\\user\\miniconda3\\lib\\site-packages (from seaborn) (1.26.4)\n",
      "Requirement already satisfied: pandas>=1.2 in c:\\users\\user\\miniconda3\\lib\\site-packages (from seaborn) (2.2.2)\n",
      "Requirement already satisfied: matplotlib!=3.6.1,>=3.4 in c:\\users\\user\\miniconda3\\lib\\site-packages (from seaborn) (3.8.4)\n",
      "Requirement already satisfied: contourpy>=1.0.1 in c:\\users\\user\\miniconda3\\lib\\site-packages (from matplotlib!=3.6.1,>=3.4->seaborn) (1.2.1)\n",
      "Requirement already satisfied: cycler>=0.10 in c:\\users\\user\\miniconda3\\lib\\site-packages (from matplotlib!=3.6.1,>=3.4->seaborn) (0.12.1)\n",
      "Requirement already satisfied: fonttools>=4.22.0 in c:\\users\\user\\miniconda3\\lib\\site-packages (from matplotlib!=3.6.1,>=3.4->seaborn) (4.51.0)\n",
      "Requirement already satisfied: kiwisolver>=1.3.1 in c:\\users\\user\\miniconda3\\lib\\site-packages (from matplotlib!=3.6.1,>=3.4->seaborn) (1.4.5)\n",
      "Requirement already satisfied: packaging>=20.0 in c:\\users\\user\\miniconda3\\lib\\site-packages (from matplotlib!=3.6.1,>=3.4->seaborn) (23.1)\n",
      "Requirement already satisfied: pillow>=8 in c:\\users\\user\\miniconda3\\lib\\site-packages (from matplotlib!=3.6.1,>=3.4->seaborn) (10.3.0)\n",
      "Requirement already satisfied: pyparsing>=2.3.1 in c:\\users\\user\\miniconda3\\lib\\site-packages (from matplotlib!=3.6.1,>=3.4->seaborn) (3.1.2)\n",
      "Requirement already satisfied: python-dateutil>=2.7 in c:\\users\\user\\miniconda3\\lib\\site-packages (from matplotlib!=3.6.1,>=3.4->seaborn) (2.9.0.post0)\n",
      "Requirement already satisfied: pytz>=2020.1 in c:\\users\\user\\miniconda3\\lib\\site-packages (from pandas>=1.2->seaborn) (2024.1)\n",
      "Requirement already satisfied: tzdata>=2022.7 in c:\\users\\user\\miniconda3\\lib\\site-packages (from pandas>=1.2->seaborn) (2024.1)\n",
      "Requirement already satisfied: six>=1.5 in c:\\users\\user\\miniconda3\\lib\\site-packages (from python-dateutil>=2.7->matplotlib!=3.6.1,>=3.4->seaborn) (1.16.0)\n",
      "Requirement already satisfied: scikit-learn in c:\\users\\user\\miniconda3\\lib\\site-packages (1.4.2)\n",
      "Requirement already satisfied: numpy>=1.19.5 in c:\\users\\user\\miniconda3\\lib\\site-packages (from scikit-learn) (1.26.4)\n",
      "Requirement already satisfied: scipy>=1.6.0 in c:\\users\\user\\miniconda3\\lib\\site-packages (from scikit-learn) (1.13.0)\n",
      "Requirement already satisfied: joblib>=1.2.0 in c:\\users\\user\\miniconda3\\lib\\site-packages (from scikit-learn) (1.4.0)\n",
      "Requirement already satisfied: threadpoolctl>=2.0.0 in c:\\users\\user\\miniconda3\\lib\\site-packages (from scikit-learn) (3.4.0)\n"
     ]
    }
   ],
   "source": [
    "!pip install pandas\n",
    "!pip install matplotlib\n",
    "!pip install seaborn\n",
    "!pip install scikit-learn\n",
    "\n",
    "import pandas as pd\n",
    "import matplotlib.pyplot as plt\n",
    "import seaborn as sns\n",
    "from sklearn import datasets, metrics\n",
    "from sklearn.model_selection import train_test_split, cross_val_score\n",
    "from sklearn.preprocessing import StandardScaler\n",
    "from sklearn.svm import SVC\n",
    "from sklearn.linear_model import LogisticRegression\n",
    "from sklearn.neighbors import KNeighborsClassifier\n",
    "from sklearn.metrics import confusion_matrix, accuracy_score, precision_score, recall_score, f1_score\n",
    "import numpy as np\n",
    "import warnings\n",
    "from itertools import product\n",
    "from sklearn.exceptions import ConvergenceWarning\n",
    "warnings.simplefilter(\"ignore\", ConvergenceWarning)\n"
   ]
  },
  {
   "cell_type": "code",
   "execution_count": 2,
   "id": "c8aff27d-8811-4ee1-a43a-8aabc17e67bf",
   "metadata": {},
   "outputs": [],
   "source": [
    " final_region = pd.read_csv(r\"D:\\IE 423\\Project\\ie423-2024-termproject-the-a-team\\ie423-2024-termproject-the-a-team\\GlobalIncome_Data\\global_income\\final_datasets\\Final_32_region_deciles_1958-2015.csv\")\n",
    "final_dist=  pd.read_csv(r\"D:\\IE 423\\Project\\ie423-2024-termproject-the-a-team\\ie423-2024-termproject-the-a-team\\GlobalIncome_Data\\global_income\\final_datasets\\Final_Global_Income_Distribution.csv\")\n",
    "final_hist =  pd.read_csv(r\"D:\\IE 423\\Project\\ie423-2024-termproject-the-a-team\\ie423-2024-termproject-the-a-team\\GlobalIncome_Data\\global_income\\final_datasets\\Final_Historical_data_ISO.csv\")\n"
   ]
  },
  {
   "cell_type": "code",
   "execution_count": 3,
   "id": "97a9dea3-7a93-4fce-b139-c4b01e9f600e",
   "metadata": {},
   "outputs": [
    {
     "name": "stdout",
     "output_type": "stream",
     "text": [
      "       GCAM_region_ID  year Category  region_shares     gdp_pcap  \\\n",
      "0                   1  1967       d1       0.021295  22688.38327   \n",
      "1                   1  1967       d2       0.037767  22688.38327   \n",
      "2                   1  1967       d3       0.049970  22688.38327   \n",
      "3                   1  1967       d4       0.061608  22688.38327   \n",
      "4                   1  1967       d5       0.073797  22688.38327   \n",
      "...               ...   ...      ...            ...          ...   \n",
      "15695              32  2015       d6       0.068638  12914.89290   \n",
      "15696              32  2015       d7       0.086548  12914.89290   \n",
      "15697              32  2015       d8       0.112962  12914.89290   \n",
      "15698              32  2015       d9       0.158837  12914.89290   \n",
      "15699              32  2015      d10       0.404873  12914.89290   \n",
      "\n",
      "            tot_gdp      tot_pop  region_gini  \n",
      "0      4.687090e+12  206585290.0     0.367954  \n",
      "1      4.687090e+12  206585290.0     0.367954  \n",
      "2      4.687090e+12  206585290.0     0.367954  \n",
      "3      4.687090e+12  206585290.0     0.367954  \n",
      "4      4.687090e+12  206585290.0     0.367954  \n",
      "...             ...          ...          ...  \n",
      "15695  6.228680e+11   48228697.0     0.501881  \n",
      "15696  6.228680e+11   48228697.0     0.501881  \n",
      "15697  6.228680e+11   48228697.0     0.501881  \n",
      "15698  6.228680e+11   48228697.0     0.501881  \n",
      "15699  6.228680e+11   48228697.0     0.501881  \n",
      "\n",
      "[15700 rows x 8 columns]\n"
     ]
    }
   ],
   "source": [
    "print(final_region)"
   ]
  },
  {
   "cell_type": "code",
   "execution_count": 4,
   "id": "fdf344cd-c7c6-4634-881a-e5a97cb9c9a5",
   "metadata": {},
   "outputs": [
    {
     "name": "stdout",
     "output_type": "stream",
     "text": [
      "Columns in final_region:\n",
      "Index(['GCAM_region_ID', 'year', 'Category', 'region_shares', 'gdp_pcap',\n",
      "       'tot_gdp', 'tot_pop', 'region_gini'],\n",
      "      dtype='object')\n",
      "\n",
      "Columns in final_dist:\n",
      "Index(['GCAM_region_ID', 'year', 'Category', 'global_shares', 'gdp_pcap',\n",
      "       'tot_gdp', 'tot_pop', 'share_of_richer_pop', 'score', 'global_gini'],\n",
      "      dtype='object')\n",
      "\n",
      "Columns in final_hist:\n",
      "Index(['country', 'iso', 'GCAM_region_ID', 'year', 'REF', 'gini_reported',\n",
      "       'gdp_ppp_pc_usd2011', 'population', 'Category', 'Income..net.',\n",
      "       'gini_recalculated', 'Data source'],\n",
      "      dtype='object')\n"
     ]
    }
   ],
   "source": [
    "# Check column names\n",
    "print(\"Columns in final_region:\")\n",
    "print(final_region.columns)\n",
    "\n",
    "print(\"\\nColumns in final_dist:\")\n",
    "print(final_dist.columns)\n",
    "\n",
    "print(\"\\nColumns in final_hist:\")\n",
    "print(final_hist.columns)"
   ]
  },
  {
   "cell_type": "code",
   "execution_count": 7,
   "id": "57d93345-013e-4f3d-947b-aa465f8a46c5",
   "metadata": {},
   "outputs": [
    {
     "name": "stdout",
     "output_type": "stream",
     "text": [
      "   GCAM_region_ID  year Category  region_shares     gdp_pcap       tot_gdp  \\\n",
      "0               1  1967       d1       0.021295  22688.38327  4.687090e+12   \n",
      "1               1  1967       d2       0.037767  22688.38327  4.687090e+12   \n",
      "2               1  1967       d3       0.049970  22688.38327  4.687090e+12   \n",
      "3               1  1967       d4       0.061608  22688.38327  4.687090e+12   \n",
      "4               1  1967       d5       0.073797  22688.38327  4.687090e+12   \n",
      "\n",
      "       tot_pop  region_gini  \n",
      "0  206585290.0     0.367954  \n",
      "1  206585290.0     0.367954  \n",
      "2  206585290.0     0.367954  \n",
      "3  206585290.0     0.367954  \n",
      "4  206585290.0     0.367954  \n"
     ]
    }
   ],
   "source": [
    "print(final_region.head())"
   ]
  },
  {
   "cell_type": "code",
   "execution_count": 8,
   "id": "3595ed06-5c7b-4d16-bc83-6029b5304a94",
   "metadata": {},
   "outputs": [
    {
     "name": "stdout",
     "output_type": "stream",
     "text": [
      "<class 'pandas.core.frame.DataFrame'>\n",
      "RangeIndex: 15700 entries, 0 to 15699\n",
      "Data columns (total 8 columns):\n",
      " #   Column          Non-Null Count  Dtype  \n",
      "---  ------          --------------  -----  \n",
      " 0   GCAM_region_ID  15700 non-null  int64  \n",
      " 1   year            15700 non-null  int64  \n",
      " 2   Category        15700 non-null  object \n",
      " 3   region_shares   15700 non-null  float64\n",
      " 4   gdp_pcap        15700 non-null  float64\n",
      " 5   tot_gdp         15700 non-null  float64\n",
      " 6   tot_pop         15700 non-null  float64\n",
      " 7   region_gini     15700 non-null  float64\n",
      "dtypes: float64(5), int64(2), object(1)\n",
      "memory usage: 981.4+ KB\n",
      "None\n"
     ]
    }
   ],
   "source": [
    "# Display basic information about the dataset\n",
    "print(final_region.info())\n"
   ]
  },
  {
   "cell_type": "code",
   "execution_count": 33,
   "id": "a5d81c19-4a14-4a28-a97e-6079871d0ee3",
   "metadata": {},
   "outputs": [
    {
     "name": "stdout",
     "output_type": "stream",
     "text": [
      "   GCAM_region_ID  year Category  global_shares  gdp_pcap       tot_gdp  \\\n",
      "0              33  1958       d1          0.029    8643.0  1.159560e+11   \n",
      "1              33  1958       d2          0.053    8643.0  1.159560e+11   \n",
      "2              33  1958       d3          0.066    8643.0  1.159560e+11   \n",
      "3              33  1958       d4          0.076    8643.0  1.159560e+11   \n",
      "4              33  1958       d5          0.087    8643.0  1.159560e+11   \n",
      "\n",
      "    tot_pop  share_of_richer_pop   score  global_gini  \n",
      "0  13416218                  0.9  0.0551       0.2668  \n",
      "1  13416218                  0.8  0.0901       0.2668  \n",
      "2  13416218                  0.7  0.0990       0.2668  \n",
      "3  13416218                  0.6  0.0988       0.2668  \n",
      "4  13416218                  0.5  0.0957       0.2668  \n"
     ]
    }
   ],
   "source": [
    "print(final_dist.head())"
   ]
  },
  {
   "cell_type": "code",
   "execution_count": 34,
   "id": "cf180fad-aa8e-4b7b-9fe2-60896956fba8",
   "metadata": {},
   "outputs": [
    {
     "name": "stdout",
     "output_type": "stream",
     "text": [
      "       country  iso  GCAM_region_ID  year      REF gini_reported  \\\n",
      "0  Afghanistan  afg              27  1967  afg1967          0.29   \n",
      "1  Afghanistan  afg              27  1967  afg1967          0.29   \n",
      "2  Afghanistan  afg              27  1967  afg1967          0.29   \n",
      "3  Afghanistan  afg              27  1967  afg1967          0.29   \n",
      "4  Afghanistan  afg              27  1967  afg1967          0.29   \n",
      "\n",
      "   gdp_ppp_pc_usd2011  population Category  Income..net. gini_recalculated  \\\n",
      "0              1268.0  27722282.0       d1      0.032262       0.290652233   \n",
      "1              1268.0  27722282.0       d2      0.050450       0.290652233   \n",
      "2              1268.0  27722282.0       d3      0.061768       0.290652233   \n",
      "3              1268.0  27722282.0       d4      0.071800       0.290652233   \n",
      "4              1268.0  27722282.0       d5      0.081803       0.290652233   \n",
      "\n",
      "                     Data source  \n",
      "0  Imputed from GINI coefficient  \n",
      "1  Imputed from GINI coefficient  \n",
      "2  Imputed from GINI coefficient  \n",
      "3  Imputed from GINI coefficient  \n",
      "4  Imputed from GINI coefficient  \n"
     ]
    }
   ],
   "source": [
    "print(final_hist.head())"
   ]
  },
  {
   "cell_type": "code",
   "execution_count": 9,
   "id": "dc533af0-252d-4bb8-b7ee-940e77fff73a",
   "metadata": {},
   "outputs": [
    {
     "name": "stdout",
     "output_type": "stream",
     "text": [
      "GCAM_region_ID    0\n",
      "year              0\n",
      "Category          0\n",
      "region_shares     0\n",
      "gdp_pcap          0\n",
      "tot_gdp           0\n",
      "tot_pop           0\n",
      "region_gini       0\n",
      "dtype: int64\n"
     ]
    }
   ],
   "source": [
    "# Check for missing values\n",
    "print(final_region.isnull().sum())"
   ]
  },
  {
   "cell_type": "code",
   "execution_count": 10,
   "id": "43c2b44b-143a-4897-9e1d-1d9e6837b9c3",
   "metadata": {},
   "outputs": [
    {
     "name": "stdout",
     "output_type": "stream",
     "text": [
      "GCAM_region_ID      int64\n",
      "year                int64\n",
      "Category           object\n",
      "region_shares     float64\n",
      "gdp_pcap          float64\n",
      "tot_gdp           float64\n",
      "tot_pop           float64\n",
      "region_gini       float64\n",
      "dtype: object\n"
     ]
    }
   ],
   "source": [
    "# Check data types of each column\n",
    "print(final_region.dtypes)\n",
    "\n",
    "\n",
    "\n"
   ]
  },
  {
   "cell_type": "code",
   "execution_count": 11,
   "id": "d258991b-7196-46e9-9a17-9b7825a880a8",
   "metadata": {},
   "outputs": [
    {
     "name": "stdout",
     "output_type": "stream",
     "text": [
      "GCAM_region_ID       32\n",
      "year                 51\n",
      "Category             10\n",
      "region_shares     14169\n",
      "gdp_pcap           1475\n",
      "tot_gdp            1475\n",
      "tot_pop            1468\n",
      "region_gini        1420\n",
      "dtype: int64\n"
     ]
    }
   ],
   "source": [
    "# Count unique values in each column\n",
    "unique_counts = final_region.nunique()\n",
    "print(unique_counts)"
   ]
  },
  {
   "cell_type": "code",
   "execution_count": 12,
   "id": "dc5a5f34-a47e-4890-aad2-a4c630dbc770",
   "metadata": {},
   "outputs": [
    {
     "name": "stdout",
     "output_type": "stream",
     "text": [
      "['d1' 'd2' 'd3' 'd4' 'd5' 'd6' 'd7' 'd8' 'd9' 'd10']\n"
     ]
    }
   ],
   "source": [
    "#Category is a categorical variable: type= object and low unique values(10)\n",
    "# Visual inspection of unique values in a specific column\n",
    "print(final_region['Category'].unique())\n"
   ]
  },
  {
   "cell_type": "code",
   "execution_count": 13,
   "id": "7eba63a6-2865-468b-8af8-3dc90ba113a6",
   "metadata": {},
   "outputs": [
    {
     "name": "stdout",
     "output_type": "stream",
     "text": [
      "Category\n",
      "d1     1570\n",
      "d2     1570\n",
      "d3     1570\n",
      "d4     1570\n",
      "d5     1570\n",
      "d6     1570\n",
      "d7     1570\n",
      "d8     1570\n",
      "d9     1570\n",
      "d10    1570\n",
      "Name: count, dtype: int64\n"
     ]
    }
   ],
   "source": [
    "category_counts = final_region['Category'].value_counts()\n",
    "print(category_counts)\n"
   ]
  },
  {
   "cell_type": "code",
   "execution_count": 14,
   "id": "5f366cd4-b273-4584-9ef0-4314483ad70d",
   "metadata": {},
   "outputs": [],
   "source": [
    "#The counts indicate that each category ('d1' through 'd10') appears 1570 times.\n",
    "#Balanced Categories: The equal counts for each category suggest a balanced distribution beneficial for classification.\n",
    "from sklearn.preprocessing import LabelEncoder\n",
    "\n",
    "# Assuming 'final_region' is your DataFrame and 'Category' is the categorical column\n",
    "le = LabelEncoder()\n",
    "final_region['Category_Encoded'] = le.fit_transform(final_region['Category'])\n"
   ]
  },
  {
   "cell_type": "code",
   "execution_count": 15,
   "id": "38823626-adfa-4556-b006-b3becbe437f8",
   "metadata": {
    "scrolled": true
   },
   "outputs": [
    {
     "name": "stdout",
     "output_type": "stream",
     "text": [
      "       GCAM_region_ID  year  region_shares     gdp_pcap       tot_gdp  \\\n",
      "0                   1  1967       0.021295  22688.38327  4.687090e+12   \n",
      "1                   1  1967       0.037767  22688.38327  4.687090e+12   \n",
      "2                   1  1967       0.049970  22688.38327  4.687090e+12   \n",
      "3                   1  1967       0.061608  22688.38327  4.687090e+12   \n",
      "4                   1  1967       0.073797  22688.38327  4.687090e+12   \n",
      "...               ...   ...            ...          ...           ...   \n",
      "15695              32  2015       0.068638  12914.89290  6.228680e+11   \n",
      "15696              32  2015       0.086548  12914.89290  6.228680e+11   \n",
      "15697              32  2015       0.112962  12914.89290  6.228680e+11   \n",
      "15698              32  2015       0.158837  12914.89290  6.228680e+11   \n",
      "15699              32  2015       0.404873  12914.89290  6.228680e+11   \n",
      "\n",
      "           tot_pop  region_gini  Category_Encoded  Category_d1  Category_d10  \\\n",
      "0      206585290.0     0.367954                 0         True         False   \n",
      "1      206585290.0     0.367954                 2        False         False   \n",
      "2      206585290.0     0.367954                 3        False         False   \n",
      "3      206585290.0     0.367954                 4        False         False   \n",
      "4      206585290.0     0.367954                 5        False         False   \n",
      "...            ...          ...               ...          ...           ...   \n",
      "15695   48228697.0     0.501881                 6        False         False   \n",
      "15696   48228697.0     0.501881                 7        False         False   \n",
      "15697   48228697.0     0.501881                 8        False         False   \n",
      "15698   48228697.0     0.501881                 9        False         False   \n",
      "15699   48228697.0     0.501881                 1        False          True   \n",
      "\n",
      "       Category_d2  Category_d3  Category_d4  Category_d5  Category_d6  \\\n",
      "0            False        False        False        False        False   \n",
      "1             True        False        False        False        False   \n",
      "2            False         True        False        False        False   \n",
      "3            False        False         True        False        False   \n",
      "4            False        False        False         True        False   \n",
      "...            ...          ...          ...          ...          ...   \n",
      "15695        False        False        False        False         True   \n",
      "15696        False        False        False        False        False   \n",
      "15697        False        False        False        False        False   \n",
      "15698        False        False        False        False        False   \n",
      "15699        False        False        False        False        False   \n",
      "\n",
      "       Category_d7  Category_d8  Category_d9  \n",
      "0            False        False        False  \n",
      "1            False        False        False  \n",
      "2            False        False        False  \n",
      "3            False        False        False  \n",
      "4            False        False        False  \n",
      "...            ...          ...          ...  \n",
      "15695        False        False        False  \n",
      "15696         True        False        False  \n",
      "15697        False         True        False  \n",
      "15698        False        False         True  \n",
      "15699        False        False        False  \n",
      "\n",
      "[15700 rows x 18 columns]\n"
     ]
    }
   ],
   "source": [
    "# Using pandas.get_dummies() for One-Hot Encoding\n",
    "encoded_df = pd.get_dummies(final_region, columns=['Category'], prefix='Category')\n",
    "print(encoded_df)"
   ]
  },
  {
   "cell_type": "code",
   "execution_count": 16,
   "id": "72889119-1686-471c-ae0e-48a4dca98ce2",
   "metadata": {},
   "outputs": [],
   "source": [
    "#Category_d1 through Category_d10: These binary columns represent each category from the original 'Category' column as True (1) or False (0). \n",
    "#For example:\n",
    "#If a row belongs to 'd1' category, Category_d1 will be True (1) and the rest will be False (0).\n",
    "#If a row belongs to 'd10' category, Category_d10 will be True (1) and the rest will be False (0)."
   ]
  },
  {
   "cell_type": "code",
   "execution_count": 17,
   "id": "78c1e295-b6e6-4b7b-a7f6-a2a7b30f4c51",
   "metadata": {},
   "outputs": [
    {
     "name": "stdout",
     "output_type": "stream",
     "text": [
      "     GCAM_region_ID  year Category  global_shares     gdp_pcap       tot_gdp  \\\n",
      "0                33  1958       d1       0.029000   8643.00000  1.159560e+11   \n",
      "1                33  1958       d2       0.053000   8643.00000  1.159560e+11   \n",
      "2                33  1958       d3       0.066000   8643.00000  1.159560e+11   \n",
      "3                33  1958       d4       0.076000   8643.00000  1.159560e+11   \n",
      "4                33  1958       d5       0.087000   8643.00000  1.159560e+11   \n",
      "..              ...   ...      ...            ...          ...           ...   \n",
      "505              33  2015       d6       0.057436  14696.48898  1.043460e+14   \n",
      "506              33  2015       d7       0.082744  14696.48898  1.043460e+14   \n",
      "507              33  2015       d8       0.121720  14696.48898  1.043460e+14   \n",
      "508              33  2015       d9       0.189988  14696.48898  1.043460e+14   \n",
      "509              33  2015      d10       0.439563  14696.48898  1.043460e+14   \n",
      "\n",
      "        tot_pop  share_of_richer_pop     score  global_gini  \n",
      "0      13416218                  0.9  0.055100     0.266800  \n",
      "1      13416218                  0.8  0.090100     0.266800  \n",
      "2      13416218                  0.7  0.099000     0.266800  \n",
      "3      13416218                  0.6  0.098800     0.266800  \n",
      "4      13416218                  0.5  0.095700     0.266800  \n",
      "..          ...                  ...       ...          ...  \n",
      "505  7100090991                  0.4  0.051692     0.583631  \n",
      "506  7100090991                  0.3  0.057921     0.583631  \n",
      "507  7100090991                  0.2  0.060860     0.583631  \n",
      "508  7100090991                  0.1  0.056996     0.583631  \n",
      "509  7100090991                  0.0  0.043956     0.583631  \n",
      "\n",
      "[510 rows x 10 columns]\n"
     ]
    }
   ],
   "source": [
    "print(final_dist)\n"
   ]
  },
  {
   "cell_type": "code",
   "execution_count": 18,
   "id": "bfbb0a0c-241c-4896-858b-b1084ac83167",
   "metadata": {},
   "outputs": [
    {
     "data": {
      "text/html": [
       "<div>\n",
       "<style scoped>\n",
       "    .dataframe tbody tr th:only-of-type {\n",
       "        vertical-align: middle;\n",
       "    }\n",
       "\n",
       "    .dataframe tbody tr th {\n",
       "        vertical-align: top;\n",
       "    }\n",
       "\n",
       "    .dataframe thead th {\n",
       "        text-align: right;\n",
       "    }\n",
       "</style>\n",
       "<table border=\"1\" class=\"dataframe\">\n",
       "  <thead>\n",
       "    <tr style=\"text-align: right;\">\n",
       "      <th></th>\n",
       "      <th>GCAM_region_ID</th>\n",
       "      <th>year</th>\n",
       "      <th>Category</th>\n",
       "      <th>global_shares</th>\n",
       "      <th>gdp_pcap</th>\n",
       "      <th>tot_gdp</th>\n",
       "      <th>tot_pop</th>\n",
       "      <th>share_of_richer_pop</th>\n",
       "      <th>score</th>\n",
       "      <th>global_gini</th>\n",
       "    </tr>\n",
       "  </thead>\n",
       "  <tbody>\n",
       "    <tr>\n",
       "      <th>0</th>\n",
       "      <td>33</td>\n",
       "      <td>1958</td>\n",
       "      <td>d1</td>\n",
       "      <td>0.029</td>\n",
       "      <td>8643.0</td>\n",
       "      <td>1.159560e+11</td>\n",
       "      <td>13416218</td>\n",
       "      <td>0.9</td>\n",
       "      <td>0.0551</td>\n",
       "      <td>0.2668</td>\n",
       "    </tr>\n",
       "    <tr>\n",
       "      <th>1</th>\n",
       "      <td>33</td>\n",
       "      <td>1958</td>\n",
       "      <td>d2</td>\n",
       "      <td>0.053</td>\n",
       "      <td>8643.0</td>\n",
       "      <td>1.159560e+11</td>\n",
       "      <td>13416218</td>\n",
       "      <td>0.8</td>\n",
       "      <td>0.0901</td>\n",
       "      <td>0.2668</td>\n",
       "    </tr>\n",
       "    <tr>\n",
       "      <th>2</th>\n",
       "      <td>33</td>\n",
       "      <td>1958</td>\n",
       "      <td>d3</td>\n",
       "      <td>0.066</td>\n",
       "      <td>8643.0</td>\n",
       "      <td>1.159560e+11</td>\n",
       "      <td>13416218</td>\n",
       "      <td>0.7</td>\n",
       "      <td>0.0990</td>\n",
       "      <td>0.2668</td>\n",
       "    </tr>\n",
       "    <tr>\n",
       "      <th>3</th>\n",
       "      <td>33</td>\n",
       "      <td>1958</td>\n",
       "      <td>d4</td>\n",
       "      <td>0.076</td>\n",
       "      <td>8643.0</td>\n",
       "      <td>1.159560e+11</td>\n",
       "      <td>13416218</td>\n",
       "      <td>0.6</td>\n",
       "      <td>0.0988</td>\n",
       "      <td>0.2668</td>\n",
       "    </tr>\n",
       "    <tr>\n",
       "      <th>4</th>\n",
       "      <td>33</td>\n",
       "      <td>1958</td>\n",
       "      <td>d5</td>\n",
       "      <td>0.087</td>\n",
       "      <td>8643.0</td>\n",
       "      <td>1.159560e+11</td>\n",
       "      <td>13416218</td>\n",
       "      <td>0.5</td>\n",
       "      <td>0.0957</td>\n",
       "      <td>0.2668</td>\n",
       "    </tr>\n",
       "  </tbody>\n",
       "</table>\n",
       "</div>"
      ],
      "text/plain": [
       "   GCAM_region_ID  year Category  global_shares  gdp_pcap       tot_gdp  \\\n",
       "0              33  1958       d1          0.029    8643.0  1.159560e+11   \n",
       "1              33  1958       d2          0.053    8643.0  1.159560e+11   \n",
       "2              33  1958       d3          0.066    8643.0  1.159560e+11   \n",
       "3              33  1958       d4          0.076    8643.0  1.159560e+11   \n",
       "4              33  1958       d5          0.087    8643.0  1.159560e+11   \n",
       "\n",
       "    tot_pop  share_of_richer_pop   score  global_gini  \n",
       "0  13416218                  0.9  0.0551       0.2668  \n",
       "1  13416218                  0.8  0.0901       0.2668  \n",
       "2  13416218                  0.7  0.0990       0.2668  \n",
       "3  13416218                  0.6  0.0988       0.2668  \n",
       "4  13416218                  0.5  0.0957       0.2668  "
      ]
     },
     "execution_count": 18,
     "metadata": {},
     "output_type": "execute_result"
    }
   ],
   "source": [
    "final_dist.head()"
   ]
  },
  {
   "cell_type": "code",
   "execution_count": 19,
   "id": "641b61e6-f002-4624-944c-c2eaf9151766",
   "metadata": {},
   "outputs": [
    {
     "name": "stdout",
     "output_type": "stream",
     "text": [
      "GCAM_region_ID         0\n",
      "year                   0\n",
      "Category               0\n",
      "global_shares          0\n",
      "gdp_pcap               0\n",
      "tot_gdp                0\n",
      "tot_pop                0\n",
      "share_of_richer_pop    0\n",
      "score                  0\n",
      "global_gini            0\n",
      "dtype: int64\n"
     ]
    }
   ],
   "source": [
    "# Check for missing values\n",
    "print(final_dist.isnull().sum())"
   ]
  },
  {
   "cell_type": "code",
   "execution_count": 20,
   "id": "efdffe72-021a-43e0-97f0-9929e6346f52",
   "metadata": {},
   "outputs": [
    {
     "name": "stdout",
     "output_type": "stream",
     "text": [
      "           country  iso  GCAM_region_ID  year      REF gini_reported  \\\n",
      "0      Afghanistan  afg              27  1967  afg1967          0.29   \n",
      "1      Afghanistan  afg              27  1967  afg1967          0.29   \n",
      "2      Afghanistan  afg              27  1967  afg1967          0.29   \n",
      "3      Afghanistan  afg              27  1967  afg1967          0.29   \n",
      "4      Afghanistan  afg              27  1967  afg1967          0.29   \n",
      "...            ...  ...             ...   ...      ...           ...   \n",
      "85215     Zimbabwe  zwe               4  2015  zwe2015     0.4499857   \n",
      "85216     Zimbabwe  zwe               4  2015  zwe2015     0.4499857   \n",
      "85217     Zimbabwe  zwe               4  2015  zwe2015     0.4499857   \n",
      "85218     Zimbabwe  zwe               4  2015  zwe2015     0.4499857   \n",
      "85219     Zimbabwe  zwe               4  2015  zwe2015     0.4499857   \n",
      "\n",
      "       gdp_ppp_pc_usd2011  population Category  Income..net.  \\\n",
      "0                  1268.0  27722282.0       d1      0.032262   \n",
      "1                  1268.0  27722282.0       d2      0.050450   \n",
      "2                  1268.0  27722282.0       d3      0.061768   \n",
      "3                  1268.0  27722282.0       d4      0.071800   \n",
      "4                  1268.0  27722282.0       d5      0.081803   \n",
      "...                   ...         ...      ...           ...   \n",
      "85215              1943.0  14386649.0       d6      0.074240   \n",
      "85216              1943.0  14386649.0       d7      0.090976   \n",
      "85217              1943.0  14386649.0       d8      0.115067   \n",
      "85218              1943.0  14386649.0       d9      0.157355   \n",
      "85219              1943.0  14386649.0      d10      0.362981   \n",
      "\n",
      "      gini_recalculated                    Data source  \n",
      "0           0.290652233  Imputed from GINI coefficient  \n",
      "1           0.290652233  Imputed from GINI coefficient  \n",
      "2           0.290652233  Imputed from GINI coefficient  \n",
      "3           0.290652233  Imputed from GINI coefficient  \n",
      "4           0.290652233  Imputed from GINI coefficient  \n",
      "...                 ...                            ...  \n",
      "85215         0.4495551  Imputed from GINI coefficient  \n",
      "85216         0.4495551  Imputed from GINI coefficient  \n",
      "85217         0.4495551  Imputed from GINI coefficient  \n",
      "85218         0.4495551  Imputed from GINI coefficient  \n",
      "85219         0.4495551  Imputed from GINI coefficient  \n",
      "\n",
      "[85220 rows x 12 columns]\n"
     ]
    }
   ],
   "source": [
    "print(final_hist)"
   ]
  },
  {
   "cell_type": "code",
   "execution_count": 21,
   "id": "e3338cc3-8913-4715-ac5c-263d442fe39b",
   "metadata": {},
   "outputs": [
    {
     "data": {
      "text/html": [
       "<div>\n",
       "<style scoped>\n",
       "    .dataframe tbody tr th:only-of-type {\n",
       "        vertical-align: middle;\n",
       "    }\n",
       "\n",
       "    .dataframe tbody tr th {\n",
       "        vertical-align: top;\n",
       "    }\n",
       "\n",
       "    .dataframe thead th {\n",
       "        text-align: right;\n",
       "    }\n",
       "</style>\n",
       "<table border=\"1\" class=\"dataframe\">\n",
       "  <thead>\n",
       "    <tr style=\"text-align: right;\">\n",
       "      <th></th>\n",
       "      <th>country</th>\n",
       "      <th>iso</th>\n",
       "      <th>GCAM_region_ID</th>\n",
       "      <th>year</th>\n",
       "      <th>REF</th>\n",
       "      <th>gini_reported</th>\n",
       "      <th>gdp_ppp_pc_usd2011</th>\n",
       "      <th>population</th>\n",
       "      <th>Category</th>\n",
       "      <th>Income..net.</th>\n",
       "      <th>gini_recalculated</th>\n",
       "      <th>Data source</th>\n",
       "    </tr>\n",
       "  </thead>\n",
       "  <tbody>\n",
       "    <tr>\n",
       "      <th>0</th>\n",
       "      <td>Afghanistan</td>\n",
       "      <td>afg</td>\n",
       "      <td>27</td>\n",
       "      <td>1967</td>\n",
       "      <td>afg1967</td>\n",
       "      <td>0.29</td>\n",
       "      <td>1268.0</td>\n",
       "      <td>27722282.0</td>\n",
       "      <td>d1</td>\n",
       "      <td>0.032262</td>\n",
       "      <td>0.290652233</td>\n",
       "      <td>Imputed from GINI coefficient</td>\n",
       "    </tr>\n",
       "    <tr>\n",
       "      <th>1</th>\n",
       "      <td>Afghanistan</td>\n",
       "      <td>afg</td>\n",
       "      <td>27</td>\n",
       "      <td>1967</td>\n",
       "      <td>afg1967</td>\n",
       "      <td>0.29</td>\n",
       "      <td>1268.0</td>\n",
       "      <td>27722282.0</td>\n",
       "      <td>d2</td>\n",
       "      <td>0.050450</td>\n",
       "      <td>0.290652233</td>\n",
       "      <td>Imputed from GINI coefficient</td>\n",
       "    </tr>\n",
       "    <tr>\n",
       "      <th>2</th>\n",
       "      <td>Afghanistan</td>\n",
       "      <td>afg</td>\n",
       "      <td>27</td>\n",
       "      <td>1967</td>\n",
       "      <td>afg1967</td>\n",
       "      <td>0.29</td>\n",
       "      <td>1268.0</td>\n",
       "      <td>27722282.0</td>\n",
       "      <td>d3</td>\n",
       "      <td>0.061768</td>\n",
       "      <td>0.290652233</td>\n",
       "      <td>Imputed from GINI coefficient</td>\n",
       "    </tr>\n",
       "    <tr>\n",
       "      <th>3</th>\n",
       "      <td>Afghanistan</td>\n",
       "      <td>afg</td>\n",
       "      <td>27</td>\n",
       "      <td>1967</td>\n",
       "      <td>afg1967</td>\n",
       "      <td>0.29</td>\n",
       "      <td>1268.0</td>\n",
       "      <td>27722282.0</td>\n",
       "      <td>d4</td>\n",
       "      <td>0.071800</td>\n",
       "      <td>0.290652233</td>\n",
       "      <td>Imputed from GINI coefficient</td>\n",
       "    </tr>\n",
       "    <tr>\n",
       "      <th>4</th>\n",
       "      <td>Afghanistan</td>\n",
       "      <td>afg</td>\n",
       "      <td>27</td>\n",
       "      <td>1967</td>\n",
       "      <td>afg1967</td>\n",
       "      <td>0.29</td>\n",
       "      <td>1268.0</td>\n",
       "      <td>27722282.0</td>\n",
       "      <td>d5</td>\n",
       "      <td>0.081803</td>\n",
       "      <td>0.290652233</td>\n",
       "      <td>Imputed from GINI coefficient</td>\n",
       "    </tr>\n",
       "  </tbody>\n",
       "</table>\n",
       "</div>"
      ],
      "text/plain": [
       "       country  iso  GCAM_region_ID  year      REF gini_reported  \\\n",
       "0  Afghanistan  afg              27  1967  afg1967          0.29   \n",
       "1  Afghanistan  afg              27  1967  afg1967          0.29   \n",
       "2  Afghanistan  afg              27  1967  afg1967          0.29   \n",
       "3  Afghanistan  afg              27  1967  afg1967          0.29   \n",
       "4  Afghanistan  afg              27  1967  afg1967          0.29   \n",
       "\n",
       "   gdp_ppp_pc_usd2011  population Category  Income..net. gini_recalculated  \\\n",
       "0              1268.0  27722282.0       d1      0.032262       0.290652233   \n",
       "1              1268.0  27722282.0       d2      0.050450       0.290652233   \n",
       "2              1268.0  27722282.0       d3      0.061768       0.290652233   \n",
       "3              1268.0  27722282.0       d4      0.071800       0.290652233   \n",
       "4              1268.0  27722282.0       d5      0.081803       0.290652233   \n",
       "\n",
       "                     Data source  \n",
       "0  Imputed from GINI coefficient  \n",
       "1  Imputed from GINI coefficient  \n",
       "2  Imputed from GINI coefficient  \n",
       "3  Imputed from GINI coefficient  \n",
       "4  Imputed from GINI coefficient  "
      ]
     },
     "execution_count": 21,
     "metadata": {},
     "output_type": "execute_result"
    }
   ],
   "source": [
    "final_hist.head()"
   ]
  },
  {
   "cell_type": "code",
   "execution_count": 22,
   "id": "a2caa3a4-4fd1-4b8c-9dda-dc0610772911",
   "metadata": {},
   "outputs": [
    {
     "name": "stdout",
     "output_type": "stream",
     "text": [
      "country               0\n",
      "iso                   0\n",
      "GCAM_region_ID        0\n",
      "year                  0\n",
      "REF                   0\n",
      "gini_reported         0\n",
      "gdp_ppp_pc_usd2011    0\n",
      "population            0\n",
      "Category              0\n",
      "Income..net.          0\n",
      "gini_recalculated     0\n",
      "Data source           0\n",
      "dtype: int64\n"
     ]
    }
   ],
   "source": [
    "# Check for missing values\n",
    "print(final_hist.isnull().sum())"
   ]
  },
  {
   "cell_type": "code",
   "execution_count": 24,
   "id": "796260e8-00d6-4757-a09d-b73ec4dc7541",
   "metadata": {},
   "outputs": [
    {
     "name": "stdout",
     "output_type": "stream",
     "text": [
      "No duplicate rows found.\n"
     ]
    }
   ],
   "source": [
    "# Check for duplicate rows\n",
    "duplicate_rows = final_hist[final_hist.duplicated()]\n",
    "\n",
    "# Display duplicate rows (if any)\n",
    "if not duplicate_rows.empty:\n",
    "    print(\"Duplicate Rows:\")\n",
    "    print(duplicate_rows)\n",
    "else:\n",
    "    print(\"No duplicate rows found.\")\n"
   ]
  },
  {
   "cell_type": "code",
   "execution_count": 23,
   "id": "11c06742-d775-4b73-9977-9de0f5e1caf9",
   "metadata": {},
   "outputs": [
    {
     "name": "stdout",
     "output_type": "stream",
     "text": [
      "country                object\n",
      "iso                    object\n",
      "GCAM_region_ID          int64\n",
      "year                    int64\n",
      "REF                    object\n",
      "gini_reported          object\n",
      "gdp_ppp_pc_usd2011    float64\n",
      "population            float64\n",
      "Category               object\n",
      "Income..net.          float64\n",
      "gini_recalculated      object\n",
      "Data source            object\n",
      "dtype: object\n"
     ]
    }
   ],
   "source": [
    "# Check data types of each column\n",
    "print(final_hist.dtypes)\n"
   ]
  },
  {
   "cell_type": "code",
   "execution_count": null,
   "id": "aaa4bcef-4ddf-42b1-8cec-e8088578e74b",
   "metadata": {},
   "outputs": [],
   "source": [
    "#country,iso,REF,gini_reported,Category,gini_recalculated,Data source     are all catego var"
   ]
  },
  {
   "cell_type": "code",
   "execution_count": 25,
   "id": "da5c6388-f8a7-40a9-8a5f-ab59f4ddf5bd",
   "metadata": {},
   "outputs": [
    {
     "name": "stdout",
     "output_type": "stream",
     "text": [
      "\n",
      "Summary statistics:\n",
      "       GCAM_region_ID          year  gdp_ppp_pc_usd2011    population  \\\n",
      "count    85220.000000  85220.000000        85220.000000  8.522000e+04   \n",
      "mean        13.404952   1991.044121        12778.183079  3.094734e+07   \n",
      "std          8.760130     14.154690        16161.450509  1.153225e+08   \n",
      "min          1.000000   1958.000000          505.000000  1.052100e+04   \n",
      "25%          5.000000   1979.000000         2896.000000  2.207725e+06   \n",
      "50%         12.000000   1991.000000         7135.400000  6.669259e+06   \n",
      "75%         21.000000   2003.000000        16543.200000  1.929479e+07   \n",
      "max         32.000000   2015.000000       122637.000000  1.397029e+09   \n",
      "\n",
      "       Income..net.  \n",
      "count  85220.000000  \n",
      "mean       0.100069  \n",
      "std        0.089606  \n",
      "min        0.000003  \n",
      "25%        0.045701  \n",
      "50%        0.075526  \n",
      "75%        0.117796  \n",
      "max        0.709478  \n"
     ]
    }
   ],
   "source": [
    "#  Identify outliers using summary statistics (for numerical columns)\n",
    "print(\"\\nSummary statistics:\")\n",
    "print(final_hist.describe())"
   ]
  },
  {
   "cell_type": "code",
   "execution_count": 26,
   "id": "f9136672-26b8-49f6-9d1f-153df3a9194c",
   "metadata": {},
   "outputs": [
    {
     "data": {
      "image/png": "[encoded data removed]",
      "text/plain": [
       "<Figure size 1200x600 with 2 Axes>"
      ]
     },
     "metadata": {},
     "output_type": "display_data"
    }
   ],
   "source": [
    "#GDP and population seem to have outliers due to the great range and variation\n",
    "# Create a figure and axes for plotting\n",
    "fig, axs = plt.subplots(1, 2, figsize=(12, 6))\n",
    "\n",
    "# Box plot for 'gdp_ppp_pc_usd2011'\n",
    "sns.boxplot(x=final_hist['gdp_ppp_pc_usd2011'], ax=axs[0])\n",
    "axs[0].set_title('Box Plot - GDP per Capita')\n",
    "\n",
    "# Box plot for 'population'\n",
    "sns.boxplot(x=final_hist['population'], ax=axs[1])\n",
    "axs[1].set_title('Box Plot - Population')\n",
    "\n",
    "# Adjust layout\n",
    "plt.tight_layout()\n",
    "plt.show()\n"
   ]
  },
  {
   "cell_type": "code",
   "execution_count": 31,
   "id": "d7e9771d-b43a-492f-9b54-b8b264ad797e",
   "metadata": {},
   "outputs": [
    {
     "name": "stdout",
     "output_type": "stream",
     "text": [
      "DataFrame after removing outliers:\n",
      "       country  iso  GCAM_region_ID  year      REF gini_reported  \\\n",
      "0  Afghanistan  afg              27  1967  afg1967          0.29   \n",
      "1  Afghanistan  afg              27  1967  afg1967          0.29   \n",
      "2  Afghanistan  afg              27  1967  afg1967          0.29   \n",
      "3  Afghanistan  afg              27  1967  afg1967          0.29   \n",
      "4  Afghanistan  afg              27  1967  afg1967          0.29   \n",
      "\n",
      "   gdp_ppp_pc_usd2011  population Category  Income..net. gini_recalculated  \\\n",
      "0              1268.0  27722282.0       d1      0.032262       0.290652233   \n",
      "1              1268.0  27722282.0       d2      0.050450       0.290652233   \n",
      "2              1268.0  27722282.0       d3      0.061768       0.290652233   \n",
      "3              1268.0  27722282.0       d4      0.071800       0.290652233   \n",
      "4              1268.0  27722282.0       d5      0.081803       0.290652233   \n",
      "\n",
      "                     Data source  \n",
      "0  Imputed from GINI coefficient  \n",
      "1  Imputed from GINI coefficient  \n",
      "2  Imputed from GINI coefficient  \n",
      "3  Imputed from GINI coefficient  \n",
      "4  Imputed from GINI coefficient  \n"
     ]
    }
   ],
   "source": [
    "#After 40,000 in GDP and at almost 0.2 in population outliers started\n",
    "#Clean outliers \n",
    "import pandas as pd\n",
    "import numpy as np\n",
    "\n",
    "# Assuming you have already loaded the DataFrame final_hist\n",
    "\n",
    "# Calculate z-scores for 'gdp_ppp_pc_usd2011' and 'population'\n",
    "z_scores_gdp = np.abs((final_hist['gdp_ppp_pc_usd2011'] - final_hist['gdp_ppp_pc_usd2011'].mean()) / final_hist['gdp_ppp_pc_usd2011'].std())\n",
    "z_scores_population = np.abs((final_hist['population'] - final_hist['population'].mean()) / final_hist['population'].std())\n",
    "\n",
    "# Define threshold for outliers (e.g., z-score > 3)\n",
    "outlier_threshold = 2\n",
    "\n",
    "# Filter rows with outliers for 'gdp_ppp_pc_usd2011'\n",
    "cleaned_final_hist = final_hist[(z_scores_gdp <= outlier_threshold) & (z_scores_population <= outlier_threshold)]\n",
    "\n",
    "# Display cleaned DataFrame\n",
    "print(\"DataFrame after removing outliers:\")\n",
    "print(cleaned_final_hist.head())\n"
   ]
  },
  {
   "cell_type": "code",
   "execution_count": 32,
   "id": "83ba48d9-f3c8-49b2-9d9c-bda2724c6051",
   "metadata": {},
   "outputs": [
    {
     "data": {
      "image/png": "[encoded data removed]",
      "text/plain": [
       "<Figure size 1200x600 with 2 Axes>"
      ]
     },
     "metadata": {},
     "output_type": "display_data"
    }
   ],
   "source": [
    "\n",
    "# Create separate box plots for 'gdp_ppp_pc_usd2011' and 'population'\n",
    "plt.figure(figsize=(12, 6))\n",
    "\n",
    "# Box plot for 'gdp_ppp_pc_usd2011'\n",
    "plt.subplot(1, 2, 1)\n",
    "sns.boxplot(y=cleaned_final_hist['gdp_ppp_pc_usd2011'])\n",
    "plt.title('Box Plot of GDP per Capita (Cleaned Data)')\n",
    "plt.ylabel('GDP per Capita (USD)')\n",
    "\n",
    "# Box plot for 'population'\n",
    "plt.subplot(1, 2, 2)\n",
    "sns.boxplot(y=cleaned_final_hist['population'])\n",
    "plt.title('Box Plot of Population (Cleaned Data)')\n",
    "plt.ylabel('Population')\n",
    "\n",
    "plt.tight_layout()  # Adjust layout to prevent overlap\n",
    "plt.show()\n"
   ]
  },
  {
   "cell_type": "code",
   "execution_count": null,
   "id": "f8ea266c-20b8-4783-8aa5-1154660513bb",
   "metadata": {},
   "outputs": [],
   "source": []
  }
 ],
 "metadata": {
  "kernelspec": {
   "display_name": "Python 3 (ipykernel)",
   "language": "python",
   "name": "python3"
  },
  "language_info": {
   "codemirror_mode": {
    "name": "ipython",
    "version": 3
   },
   "file_extension": ".py",
   "mimetype": "text/x-python",
   "name": "python",
   "nbconvert_exporter": "python",
   "pygments_lexer": "ipython3",
   "version": "3.12.1"
  }
 },
 "nbformat": 4,
 "nbformat_minor": 5
}
